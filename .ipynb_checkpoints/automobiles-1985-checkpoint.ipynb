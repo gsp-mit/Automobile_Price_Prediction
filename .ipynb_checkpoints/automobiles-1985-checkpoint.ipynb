{
 "cells": [
  {
   "cell_type": "markdown",
   "metadata": {},
   "source": [
    "## Importing relevant libraries"
   ]
  },
  {
   "cell_type": "code",
   "execution_count": 2,
   "metadata": {},
   "outputs": [],
   "source": [
    "import pandas as pd\n",
    "import numpy as np\n",
    "import matplotlib.pyplot as plt\n",
    "import seaborn as sns\n",
    "from sklearn.model_selection import train_test_split\n",
    "from sklearn.linear_model import LinearRegression\n",
    "from sklearn.preprocessing import LabelEncoder\n",
    "from sklearn.preprocessing import MinMaxScaler\n",
    "from sklearn.preprocessing import RobustScaler\n",
    "from sklearn.preprocessing import StandardScaler\n",
    "from sklearn.tree import DecisionTreeRegressor\n",
    "from sklearn.ensemble import RandomForestRegressor\n",
    "from sklearn.model_selection import cross_val_score as cvs\n",
    "from sklearn.model_selection import RandomizedSearchCV"
   ]
  },
  {
   "cell_type": "markdown",
   "metadata": {},
   "source": [
    "## Loading and cleaning the data"
   ]
  },
  {
   "cell_type": "code",
   "execution_count": 2,
   "metadata": {},
   "outputs": [],
   "source": [
    "df=pd.read_csv('data.csv')"
   ]
  },
  {
   "cell_type": "code",
   "execution_count": 3,
   "metadata": {},
   "outputs": [],
   "source": [
    "df.replace('[?]',np.nan,regex=True,inplace=True)"
   ]
  },
  {
   "cell_type": "code",
   "execution_count": 4,
   "metadata": {},
   "outputs": [
    {
     "data": {
      "text/plain": [
       "(204, 26)"
      ]
     },
     "execution_count": 4,
     "metadata": {},
     "output_type": "execute_result"
    }
   ],
   "source": [
    "df.shape"
   ]
  },
  {
   "cell_type": "code",
   "execution_count": 5,
   "metadata": {},
   "outputs": [],
   "source": [
    "df['normalized-losses'].fillna(df['normalized-losses'].median(),inplace=True)\n",
    "df.dropna(inplace=True)"
   ]
  },
  {
   "cell_type": "code",
   "execution_count": 6,
   "metadata": {},
   "outputs": [
    {
     "data": {
      "text/plain": [
       "(192, 26)"
      ]
     },
     "execution_count": 6,
     "metadata": {},
     "output_type": "execute_result"
    }
   ],
   "source": [
    "df.shape"
   ]
  },
  {
   "cell_type": "code",
   "execution_count": 7,
   "metadata": {
    "collapsed": true
   },
   "outputs": [
    {
     "data": {
      "text/plain": [
       "symboling            0\n",
       "normalized-losses    0\n",
       "make                 0\n",
       "fuel-type            0\n",
       "aspiration           0\n",
       "num-of-doors         0\n",
       "body-style           0\n",
       "drive-wheels         0\n",
       "engine-location      0\n",
       "wheel-base           0\n",
       "length               0\n",
       "width                0\n",
       "height               0\n",
       "curb-weight          0\n",
       "engine-type          0\n",
       "num-of-cylinders     0\n",
       "engine-size          0\n",
       "fuel-system          0\n",
       "bore                 0\n",
       "stroke               0\n",
       "compression-ratio    0\n",
       "horsepower           0\n",
       "peak-rpm             0\n",
       "city-mpg             0\n",
       "highway-mpg          0\n",
       "price                0\n",
       "dtype: int64"
      ]
     },
     "execution_count": 7,
     "metadata": {},
     "output_type": "execute_result"
    }
   ],
   "source": [
    "df.isnull().sum()"
   ]
  },
  {
   "cell_type": "markdown",
   "metadata": {},
   "source": [
    "## Feature Engineering"
   ]
  },
  {
   "cell_type": "code",
   "execution_count": 8,
   "metadata": {},
   "outputs": [],
   "source": [
    "df['price']=pd.to_numeric(df['price'])\n",
    "df['stroke']=pd.to_numeric(df['stroke'])\n",
    "df['bore']=pd.to_numeric(df['bore'])\n",
    "df['normalized-losses']=pd.to_numeric(df['normalized-losses'])\n",
    "df['horsepower']=pd.to_numeric(df['horsepower'])\n",
    "df['peak-rpm']=pd.to_numeric(df['peak-rpm'])"
   ]
  },
  {
   "cell_type": "code",
   "execution_count": 9,
   "metadata": {
    "scrolled": true
   },
   "outputs": [
    {
     "name": "stdout",
     "output_type": "stream",
     "text": [
      "<class 'pandas.core.frame.DataFrame'>\n",
      "Int64Index: 192 entries, 0 to 203\n",
      "Data columns (total 26 columns):\n",
      " #   Column             Non-Null Count  Dtype  \n",
      "---  ------             --------------  -----  \n",
      " 0   symboling          192 non-null    int64  \n",
      " 1   normalized-losses  192 non-null    float64\n",
      " 2   make               192 non-null    object \n",
      " 3   fuel-type          192 non-null    object \n",
      " 4   aspiration         192 non-null    object \n",
      " 5   num-of-doors       192 non-null    object \n",
      " 6   body-style         192 non-null    object \n",
      " 7   drive-wheels       192 non-null    object \n",
      " 8   engine-location    192 non-null    object \n",
      " 9   wheel-base         192 non-null    float64\n",
      " 10  length             192 non-null    float64\n",
      " 11  width              192 non-null    float64\n",
      " 12  height             192 non-null    float64\n",
      " 13  curb-weight        192 non-null    int64  \n",
      " 14  engine-type        192 non-null    object \n",
      " 15  num-of-cylinders   192 non-null    object \n",
      " 16  engine-size        192 non-null    int64  \n",
      " 17  fuel-system        192 non-null    object \n",
      " 18  bore               192 non-null    float64\n",
      " 19  stroke             192 non-null    float64\n",
      " 20  compression-ratio  192 non-null    float64\n",
      " 21  horsepower         192 non-null    int64  \n",
      " 22  peak-rpm           192 non-null    int64  \n",
      " 23  city-mpg           192 non-null    int64  \n",
      " 24  highway-mpg        192 non-null    int64  \n",
      " 25  price              192 non-null    int64  \n",
      "dtypes: float64(8), int64(8), object(10)\n",
      "memory usage: 40.5+ KB\n"
     ]
    }
   ],
   "source": [
    "df.info()"
   ]
  },
  {
   "cell_type": "code",
   "execution_count": 10,
   "metadata": {
    "scrolled": true
   },
   "outputs": [
    {
     "data": {
      "text/html": [
       "<div>\n",
       "<style scoped>\n",
       "    .dataframe tbody tr th:only-of-type {\n",
       "        vertical-align: middle;\n",
       "    }\n",
       "\n",
       "    .dataframe tbody tr th {\n",
       "        vertical-align: top;\n",
       "    }\n",
       "\n",
       "    .dataframe thead th {\n",
       "        text-align: right;\n",
       "    }\n",
       "</style>\n",
       "<table border=\"1\" class=\"dataframe\">\n",
       "  <thead>\n",
       "    <tr style=\"text-align: right;\">\n",
       "      <th></th>\n",
       "      <th>symboling</th>\n",
       "      <th>normalized-losses</th>\n",
       "      <th>wheel-base</th>\n",
       "      <th>length</th>\n",
       "      <th>width</th>\n",
       "      <th>height</th>\n",
       "      <th>curb-weight</th>\n",
       "      <th>engine-size</th>\n",
       "      <th>bore</th>\n",
       "      <th>stroke</th>\n",
       "      <th>compression-ratio</th>\n",
       "      <th>horsepower</th>\n",
       "      <th>peak-rpm</th>\n",
       "      <th>city-mpg</th>\n",
       "      <th>highway-mpg</th>\n",
       "      <th>price</th>\n",
       "    </tr>\n",
       "  </thead>\n",
       "  <tbody>\n",
       "    <tr>\n",
       "      <th>count</th>\n",
       "      <td>192.000000</td>\n",
       "      <td>192.000000</td>\n",
       "      <td>192.000000</td>\n",
       "      <td>192.000000</td>\n",
       "      <td>192.000000</td>\n",
       "      <td>192.000000</td>\n",
       "      <td>192.000000</td>\n",
       "      <td>192.000000</td>\n",
       "      <td>192.000000</td>\n",
       "      <td>192.000000</td>\n",
       "      <td>192.000000</td>\n",
       "      <td>192.000000</td>\n",
       "      <td>192.000000</td>\n",
       "      <td>192.000000</td>\n",
       "      <td>192.000000</td>\n",
       "      <td>192.000000</td>\n",
       "    </tr>\n",
       "    <tr>\n",
       "      <th>mean</th>\n",
       "      <td>0.786458</td>\n",
       "      <td>120.078125</td>\n",
       "      <td>98.977604</td>\n",
       "      <td>174.355208</td>\n",
       "      <td>65.903125</td>\n",
       "      <td>53.896354</td>\n",
       "      <td>2561.578125</td>\n",
       "      <td>128.114583</td>\n",
       "      <td>3.329896</td>\n",
       "      <td>3.251823</td>\n",
       "      <td>10.149583</td>\n",
       "      <td>103.442708</td>\n",
       "      <td>5100.260417</td>\n",
       "      <td>25.348958</td>\n",
       "      <td>30.807292</td>\n",
       "      <td>13283.932292</td>\n",
       "    </tr>\n",
       "    <tr>\n",
       "      <th>std</th>\n",
       "      <td>1.228469</td>\n",
       "      <td>32.508382</td>\n",
       "      <td>6.122858</td>\n",
       "      <td>12.504792</td>\n",
       "      <td>2.139431</td>\n",
       "      <td>2.372693</td>\n",
       "      <td>528.076113</td>\n",
       "      <td>41.698963</td>\n",
       "      <td>0.272909</td>\n",
       "      <td>0.313541</td>\n",
       "      <td>3.987026</td>\n",
       "      <td>38.055441</td>\n",
       "      <td>469.864005</td>\n",
       "      <td>6.396833</td>\n",
       "      <td>6.829207</td>\n",
       "      <td>8110.216546</td>\n",
       "    </tr>\n",
       "    <tr>\n",
       "      <th>min</th>\n",
       "      <td>-2.000000</td>\n",
       "      <td>65.000000</td>\n",
       "      <td>86.600000</td>\n",
       "      <td>141.100000</td>\n",
       "      <td>60.300000</td>\n",
       "      <td>47.800000</td>\n",
       "      <td>1488.000000</td>\n",
       "      <td>61.000000</td>\n",
       "      <td>2.540000</td>\n",
       "      <td>2.070000</td>\n",
       "      <td>7.000000</td>\n",
       "      <td>48.000000</td>\n",
       "      <td>4150.000000</td>\n",
       "      <td>13.000000</td>\n",
       "      <td>16.000000</td>\n",
       "      <td>5118.000000</td>\n",
       "    </tr>\n",
       "    <tr>\n",
       "      <th>25%</th>\n",
       "      <td>0.000000</td>\n",
       "      <td>95.000000</td>\n",
       "      <td>94.500000</td>\n",
       "      <td>166.300000</td>\n",
       "      <td>64.075000</td>\n",
       "      <td>52.000000</td>\n",
       "      <td>2143.750000</td>\n",
       "      <td>98.000000</td>\n",
       "      <td>3.150000</td>\n",
       "      <td>3.110000</td>\n",
       "      <td>8.500000</td>\n",
       "      <td>70.000000</td>\n",
       "      <td>4800.000000</td>\n",
       "      <td>19.000000</td>\n",
       "      <td>25.000000</td>\n",
       "      <td>7725.750000</td>\n",
       "    </tr>\n",
       "    <tr>\n",
       "      <th>50%</th>\n",
       "      <td>1.000000</td>\n",
       "      <td>115.000000</td>\n",
       "      <td>97.100000</td>\n",
       "      <td>173.200000</td>\n",
       "      <td>65.450000</td>\n",
       "      <td>54.100000</td>\n",
       "      <td>2414.000000</td>\n",
       "      <td>120.000000</td>\n",
       "      <td>3.310000</td>\n",
       "      <td>3.290000</td>\n",
       "      <td>9.000000</td>\n",
       "      <td>95.000000</td>\n",
       "      <td>5100.000000</td>\n",
       "      <td>25.000000</td>\n",
       "      <td>30.000000</td>\n",
       "      <td>10221.500000</td>\n",
       "    </tr>\n",
       "    <tr>\n",
       "      <th>75%</th>\n",
       "      <td>2.000000</td>\n",
       "      <td>134.750000</td>\n",
       "      <td>102.400000</td>\n",
       "      <td>184.600000</td>\n",
       "      <td>66.900000</td>\n",
       "      <td>55.700000</td>\n",
       "      <td>2952.500000</td>\n",
       "      <td>146.000000</td>\n",
       "      <td>3.590000</td>\n",
       "      <td>3.410000</td>\n",
       "      <td>9.400000</td>\n",
       "      <td>116.000000</td>\n",
       "      <td>5500.000000</td>\n",
       "      <td>30.000000</td>\n",
       "      <td>34.500000</td>\n",
       "      <td>16525.750000</td>\n",
       "    </tr>\n",
       "    <tr>\n",
       "      <th>max</th>\n",
       "      <td>3.000000</td>\n",
       "      <td>256.000000</td>\n",
       "      <td>120.900000</td>\n",
       "      <td>208.100000</td>\n",
       "      <td>72.000000</td>\n",
       "      <td>59.800000</td>\n",
       "      <td>4066.000000</td>\n",
       "      <td>326.000000</td>\n",
       "      <td>3.940000</td>\n",
       "      <td>4.170000</td>\n",
       "      <td>23.000000</td>\n",
       "      <td>262.000000</td>\n",
       "      <td>6600.000000</td>\n",
       "      <td>49.000000</td>\n",
       "      <td>54.000000</td>\n",
       "      <td>45400.000000</td>\n",
       "    </tr>\n",
       "  </tbody>\n",
       "</table>\n",
       "</div>"
      ],
      "text/plain": [
       "        symboling  normalized-losses  wheel-base      length       width  \\\n",
       "count  192.000000         192.000000  192.000000  192.000000  192.000000   \n",
       "mean     0.786458         120.078125   98.977604  174.355208   65.903125   \n",
       "std      1.228469          32.508382    6.122858   12.504792    2.139431   \n",
       "min     -2.000000          65.000000   86.600000  141.100000   60.300000   \n",
       "25%      0.000000          95.000000   94.500000  166.300000   64.075000   \n",
       "50%      1.000000         115.000000   97.100000  173.200000   65.450000   \n",
       "75%      2.000000         134.750000  102.400000  184.600000   66.900000   \n",
       "max      3.000000         256.000000  120.900000  208.100000   72.000000   \n",
       "\n",
       "           height  curb-weight  engine-size        bore      stroke  \\\n",
       "count  192.000000   192.000000   192.000000  192.000000  192.000000   \n",
       "mean    53.896354  2561.578125   128.114583    3.329896    3.251823   \n",
       "std      2.372693   528.076113    41.698963    0.272909    0.313541   \n",
       "min     47.800000  1488.000000    61.000000    2.540000    2.070000   \n",
       "25%     52.000000  2143.750000    98.000000    3.150000    3.110000   \n",
       "50%     54.100000  2414.000000   120.000000    3.310000    3.290000   \n",
       "75%     55.700000  2952.500000   146.000000    3.590000    3.410000   \n",
       "max     59.800000  4066.000000   326.000000    3.940000    4.170000   \n",
       "\n",
       "       compression-ratio  horsepower     peak-rpm    city-mpg  highway-mpg  \\\n",
       "count         192.000000  192.000000   192.000000  192.000000   192.000000   \n",
       "mean           10.149583  103.442708  5100.260417   25.348958    30.807292   \n",
       "std             3.987026   38.055441   469.864005    6.396833     6.829207   \n",
       "min             7.000000   48.000000  4150.000000   13.000000    16.000000   \n",
       "25%             8.500000   70.000000  4800.000000   19.000000    25.000000   \n",
       "50%             9.000000   95.000000  5100.000000   25.000000    30.000000   \n",
       "75%             9.400000  116.000000  5500.000000   30.000000    34.500000   \n",
       "max            23.000000  262.000000  6600.000000   49.000000    54.000000   \n",
       "\n",
       "              price  \n",
       "count    192.000000  \n",
       "mean   13283.932292  \n",
       "std     8110.216546  \n",
       "min     5118.000000  \n",
       "25%     7725.750000  \n",
       "50%    10221.500000  \n",
       "75%    16525.750000  \n",
       "max    45400.000000  "
      ]
     },
     "execution_count": 10,
     "metadata": {},
     "output_type": "execute_result"
    }
   ],
   "source": [
    "df.describe()"
   ]
  },
  {
   "cell_type": "code",
   "execution_count": 11,
   "metadata": {},
   "outputs": [],
   "source": [
    "dd=df.copy()"
   ]
  },
  {
   "cell_type": "code",
   "execution_count": 12,
   "metadata": {},
   "outputs": [],
   "source": [
    "df['num-of-cylinders']=pd.to_numeric(df['num-of-cylinders'].map({'eight':8, 'five':5, 'four':4, 'six':6, 'three':3, 'twelve':12,'two':2}))\n",
    "df['num-of-doors']=pd.to_numeric(df['num-of-doors'].map({'four':4,'two':2}))"
   ]
  },
  {
   "cell_type": "code",
   "execution_count": 13,
   "metadata": {},
   "outputs": [],
   "source": [
    "df['stroke_ratio']=df['stroke']/df['bore']\n",
    "df['avg_mpg']=(df['city-mpg']+df['highway-mpg'])/2\n",
    "df['make_and_style']=df['make']+'-'+df['body-style']\n",
    "df['torque']=round((df['horsepower']*5252)/df['peak-rpm'],2)\n",
    "df['PWR (hp/lb)']=round(df['horsepower']/df['curb-weight'],3)\n",
    "df['volume_m3']=(df['length']*df['width']*df['height'])/1000000\n",
    "df['engine_displacement']=(np.pi*(df['bore'] ** 2))*df['stroke']*df['num-of-cylinders']"
   ]
  },
  {
   "cell_type": "code",
   "execution_count": 14,
   "metadata": {},
   "outputs": [
    {
     "data": {
      "text/html": [
       "<div>\n",
       "<style scoped>\n",
       "    .dataframe tbody tr th:only-of-type {\n",
       "        vertical-align: middle;\n",
       "    }\n",
       "\n",
       "    .dataframe tbody tr th {\n",
       "        vertical-align: top;\n",
       "    }\n",
       "\n",
       "    .dataframe thead th {\n",
       "        text-align: right;\n",
       "    }\n",
       "</style>\n",
       "<table border=\"1\" class=\"dataframe\">\n",
       "  <thead>\n",
       "    <tr style=\"text-align: right;\">\n",
       "      <th></th>\n",
       "      <th>symboling</th>\n",
       "      <th>normalized-losses</th>\n",
       "      <th>make</th>\n",
       "      <th>fuel-type</th>\n",
       "      <th>aspiration</th>\n",
       "      <th>num-of-doors</th>\n",
       "      <th>body-style</th>\n",
       "      <th>drive-wheels</th>\n",
       "      <th>engine-location</th>\n",
       "      <th>wheel-base</th>\n",
       "      <th>...</th>\n",
       "      <th>engine-size</th>\n",
       "      <th>fuel-system</th>\n",
       "      <th>bore</th>\n",
       "      <th>stroke</th>\n",
       "      <th>compression-ratio</th>\n",
       "      <th>horsepower</th>\n",
       "      <th>peak-rpm</th>\n",
       "      <th>city-mpg</th>\n",
       "      <th>highway-mpg</th>\n",
       "      <th>price</th>\n",
       "    </tr>\n",
       "  </thead>\n",
       "  <tbody>\n",
       "    <tr>\n",
       "      <th>0</th>\n",
       "      <td>3</td>\n",
       "      <td>115.0</td>\n",
       "      <td>alfa-romero</td>\n",
       "      <td>gas</td>\n",
       "      <td>std</td>\n",
       "      <td>two</td>\n",
       "      <td>convertible</td>\n",
       "      <td>rwd</td>\n",
       "      <td>front</td>\n",
       "      <td>88.6</td>\n",
       "      <td>...</td>\n",
       "      <td>130</td>\n",
       "      <td>mpfi</td>\n",
       "      <td>3.47</td>\n",
       "      <td>2.68</td>\n",
       "      <td>9.0</td>\n",
       "      <td>111</td>\n",
       "      <td>5000</td>\n",
       "      <td>21</td>\n",
       "      <td>27</td>\n",
       "      <td>16500</td>\n",
       "    </tr>\n",
       "    <tr>\n",
       "      <th>1</th>\n",
       "      <td>1</td>\n",
       "      <td>115.0</td>\n",
       "      <td>alfa-romero</td>\n",
       "      <td>gas</td>\n",
       "      <td>std</td>\n",
       "      <td>two</td>\n",
       "      <td>hatchback</td>\n",
       "      <td>rwd</td>\n",
       "      <td>front</td>\n",
       "      <td>94.5</td>\n",
       "      <td>...</td>\n",
       "      <td>152</td>\n",
       "      <td>mpfi</td>\n",
       "      <td>2.68</td>\n",
       "      <td>3.47</td>\n",
       "      <td>9.0</td>\n",
       "      <td>154</td>\n",
       "      <td>5000</td>\n",
       "      <td>19</td>\n",
       "      <td>26</td>\n",
       "      <td>16500</td>\n",
       "    </tr>\n",
       "    <tr>\n",
       "      <th>2</th>\n",
       "      <td>2</td>\n",
       "      <td>164.0</td>\n",
       "      <td>audi</td>\n",
       "      <td>gas</td>\n",
       "      <td>std</td>\n",
       "      <td>four</td>\n",
       "      <td>sedan</td>\n",
       "      <td>fwd</td>\n",
       "      <td>front</td>\n",
       "      <td>99.8</td>\n",
       "      <td>...</td>\n",
       "      <td>109</td>\n",
       "      <td>mpfi</td>\n",
       "      <td>3.19</td>\n",
       "      <td>3.40</td>\n",
       "      <td>10.0</td>\n",
       "      <td>102</td>\n",
       "      <td>5500</td>\n",
       "      <td>24</td>\n",
       "      <td>30</td>\n",
       "      <td>13950</td>\n",
       "    </tr>\n",
       "    <tr>\n",
       "      <th>3</th>\n",
       "      <td>2</td>\n",
       "      <td>164.0</td>\n",
       "      <td>audi</td>\n",
       "      <td>gas</td>\n",
       "      <td>std</td>\n",
       "      <td>four</td>\n",
       "      <td>sedan</td>\n",
       "      <td>4wd</td>\n",
       "      <td>front</td>\n",
       "      <td>99.4</td>\n",
       "      <td>...</td>\n",
       "      <td>136</td>\n",
       "      <td>mpfi</td>\n",
       "      <td>3.19</td>\n",
       "      <td>3.40</td>\n",
       "      <td>8.0</td>\n",
       "      <td>115</td>\n",
       "      <td>5500</td>\n",
       "      <td>18</td>\n",
       "      <td>22</td>\n",
       "      <td>17450</td>\n",
       "    </tr>\n",
       "    <tr>\n",
       "      <th>4</th>\n",
       "      <td>2</td>\n",
       "      <td>115.0</td>\n",
       "      <td>audi</td>\n",
       "      <td>gas</td>\n",
       "      <td>std</td>\n",
       "      <td>two</td>\n",
       "      <td>sedan</td>\n",
       "      <td>fwd</td>\n",
       "      <td>front</td>\n",
       "      <td>99.8</td>\n",
       "      <td>...</td>\n",
       "      <td>136</td>\n",
       "      <td>mpfi</td>\n",
       "      <td>3.19</td>\n",
       "      <td>3.40</td>\n",
       "      <td>8.5</td>\n",
       "      <td>110</td>\n",
       "      <td>5500</td>\n",
       "      <td>19</td>\n",
       "      <td>25</td>\n",
       "      <td>15250</td>\n",
       "    </tr>\n",
       "    <tr>\n",
       "      <th>...</th>\n",
       "      <td>...</td>\n",
       "      <td>...</td>\n",
       "      <td>...</td>\n",
       "      <td>...</td>\n",
       "      <td>...</td>\n",
       "      <td>...</td>\n",
       "      <td>...</td>\n",
       "      <td>...</td>\n",
       "      <td>...</td>\n",
       "      <td>...</td>\n",
       "      <td>...</td>\n",
       "      <td>...</td>\n",
       "      <td>...</td>\n",
       "      <td>...</td>\n",
       "      <td>...</td>\n",
       "      <td>...</td>\n",
       "      <td>...</td>\n",
       "      <td>...</td>\n",
       "      <td>...</td>\n",
       "      <td>...</td>\n",
       "      <td>...</td>\n",
       "    </tr>\n",
       "    <tr>\n",
       "      <th>199</th>\n",
       "      <td>-1</td>\n",
       "      <td>95.0</td>\n",
       "      <td>volvo</td>\n",
       "      <td>gas</td>\n",
       "      <td>std</td>\n",
       "      <td>four</td>\n",
       "      <td>sedan</td>\n",
       "      <td>rwd</td>\n",
       "      <td>front</td>\n",
       "      <td>109.1</td>\n",
       "      <td>...</td>\n",
       "      <td>141</td>\n",
       "      <td>mpfi</td>\n",
       "      <td>3.78</td>\n",
       "      <td>3.15</td>\n",
       "      <td>9.5</td>\n",
       "      <td>114</td>\n",
       "      <td>5400</td>\n",
       "      <td>23</td>\n",
       "      <td>28</td>\n",
       "      <td>16845</td>\n",
       "    </tr>\n",
       "    <tr>\n",
       "      <th>200</th>\n",
       "      <td>-1</td>\n",
       "      <td>95.0</td>\n",
       "      <td>volvo</td>\n",
       "      <td>gas</td>\n",
       "      <td>turbo</td>\n",
       "      <td>four</td>\n",
       "      <td>sedan</td>\n",
       "      <td>rwd</td>\n",
       "      <td>front</td>\n",
       "      <td>109.1</td>\n",
       "      <td>...</td>\n",
       "      <td>141</td>\n",
       "      <td>mpfi</td>\n",
       "      <td>3.78</td>\n",
       "      <td>3.15</td>\n",
       "      <td>8.7</td>\n",
       "      <td>160</td>\n",
       "      <td>5300</td>\n",
       "      <td>19</td>\n",
       "      <td>25</td>\n",
       "      <td>19045</td>\n",
       "    </tr>\n",
       "    <tr>\n",
       "      <th>201</th>\n",
       "      <td>-1</td>\n",
       "      <td>95.0</td>\n",
       "      <td>volvo</td>\n",
       "      <td>gas</td>\n",
       "      <td>std</td>\n",
       "      <td>four</td>\n",
       "      <td>sedan</td>\n",
       "      <td>rwd</td>\n",
       "      <td>front</td>\n",
       "      <td>109.1</td>\n",
       "      <td>...</td>\n",
       "      <td>173</td>\n",
       "      <td>mpfi</td>\n",
       "      <td>3.58</td>\n",
       "      <td>2.87</td>\n",
       "      <td>8.8</td>\n",
       "      <td>134</td>\n",
       "      <td>5500</td>\n",
       "      <td>18</td>\n",
       "      <td>23</td>\n",
       "      <td>21485</td>\n",
       "    </tr>\n",
       "    <tr>\n",
       "      <th>202</th>\n",
       "      <td>-1</td>\n",
       "      <td>95.0</td>\n",
       "      <td>volvo</td>\n",
       "      <td>diesel</td>\n",
       "      <td>turbo</td>\n",
       "      <td>four</td>\n",
       "      <td>sedan</td>\n",
       "      <td>rwd</td>\n",
       "      <td>front</td>\n",
       "      <td>109.1</td>\n",
       "      <td>...</td>\n",
       "      <td>145</td>\n",
       "      <td>idi</td>\n",
       "      <td>3.01</td>\n",
       "      <td>3.40</td>\n",
       "      <td>23.0</td>\n",
       "      <td>106</td>\n",
       "      <td>4800</td>\n",
       "      <td>26</td>\n",
       "      <td>27</td>\n",
       "      <td>22470</td>\n",
       "    </tr>\n",
       "    <tr>\n",
       "      <th>203</th>\n",
       "      <td>-1</td>\n",
       "      <td>95.0</td>\n",
       "      <td>volvo</td>\n",
       "      <td>gas</td>\n",
       "      <td>turbo</td>\n",
       "      <td>four</td>\n",
       "      <td>sedan</td>\n",
       "      <td>rwd</td>\n",
       "      <td>front</td>\n",
       "      <td>109.1</td>\n",
       "      <td>...</td>\n",
       "      <td>141</td>\n",
       "      <td>mpfi</td>\n",
       "      <td>3.78</td>\n",
       "      <td>3.15</td>\n",
       "      <td>9.5</td>\n",
       "      <td>114</td>\n",
       "      <td>5400</td>\n",
       "      <td>19</td>\n",
       "      <td>25</td>\n",
       "      <td>22625</td>\n",
       "    </tr>\n",
       "  </tbody>\n",
       "</table>\n",
       "<p>192 rows × 26 columns</p>\n",
       "</div>"
      ],
      "text/plain": [
       "     symboling  normalized-losses         make fuel-type aspiration  \\\n",
       "0            3              115.0  alfa-romero       gas        std   \n",
       "1            1              115.0  alfa-romero       gas        std   \n",
       "2            2              164.0         audi       gas        std   \n",
       "3            2              164.0         audi       gas        std   \n",
       "4            2              115.0         audi       gas        std   \n",
       "..         ...                ...          ...       ...        ...   \n",
       "199         -1               95.0        volvo       gas        std   \n",
       "200         -1               95.0        volvo       gas      turbo   \n",
       "201         -1               95.0        volvo       gas        std   \n",
       "202         -1               95.0        volvo    diesel      turbo   \n",
       "203         -1               95.0        volvo       gas      turbo   \n",
       "\n",
       "    num-of-doors   body-style drive-wheels engine-location  wheel-base  ...  \\\n",
       "0            two  convertible          rwd           front        88.6  ...   \n",
       "1            two    hatchback          rwd           front        94.5  ...   \n",
       "2           four        sedan          fwd           front        99.8  ...   \n",
       "3           four        sedan          4wd           front        99.4  ...   \n",
       "4            two        sedan          fwd           front        99.8  ...   \n",
       "..           ...          ...          ...             ...         ...  ...   \n",
       "199         four        sedan          rwd           front       109.1  ...   \n",
       "200         four        sedan          rwd           front       109.1  ...   \n",
       "201         four        sedan          rwd           front       109.1  ...   \n",
       "202         four        sedan          rwd           front       109.1  ...   \n",
       "203         four        sedan          rwd           front       109.1  ...   \n",
       "\n",
       "     engine-size  fuel-system  bore  stroke compression-ratio horsepower  \\\n",
       "0            130         mpfi  3.47    2.68               9.0        111   \n",
       "1            152         mpfi  2.68    3.47               9.0        154   \n",
       "2            109         mpfi  3.19    3.40              10.0        102   \n",
       "3            136         mpfi  3.19    3.40               8.0        115   \n",
       "4            136         mpfi  3.19    3.40               8.5        110   \n",
       "..           ...          ...   ...     ...               ...        ...   \n",
       "199          141         mpfi  3.78    3.15               9.5        114   \n",
       "200          141         mpfi  3.78    3.15               8.7        160   \n",
       "201          173         mpfi  3.58    2.87               8.8        134   \n",
       "202          145          idi  3.01    3.40              23.0        106   \n",
       "203          141         mpfi  3.78    3.15               9.5        114   \n",
       "\n",
       "     peak-rpm city-mpg  highway-mpg  price  \n",
       "0        5000       21           27  16500  \n",
       "1        5000       19           26  16500  \n",
       "2        5500       24           30  13950  \n",
       "3        5500       18           22  17450  \n",
       "4        5500       19           25  15250  \n",
       "..        ...      ...          ...    ...  \n",
       "199      5400       23           28  16845  \n",
       "200      5300       19           25  19045  \n",
       "201      5500       18           23  21485  \n",
       "202      4800       26           27  22470  \n",
       "203      5400       19           25  22625  \n",
       "\n",
       "[192 rows x 26 columns]"
      ]
     },
     "execution_count": 14,
     "metadata": {},
     "output_type": "execute_result"
    }
   ],
   "source": [
    "dd"
   ]
  },
  {
   "cell_type": "code",
   "execution_count": 15,
   "metadata": {
    "scrolled": true
   },
   "outputs": [
    {
     "data": {
      "text/html": [
       "<div>\n",
       "<style scoped>\n",
       "    .dataframe tbody tr th:only-of-type {\n",
       "        vertical-align: middle;\n",
       "    }\n",
       "\n",
       "    .dataframe tbody tr th {\n",
       "        vertical-align: top;\n",
       "    }\n",
       "\n",
       "    .dataframe thead th {\n",
       "        text-align: right;\n",
       "    }\n",
       "</style>\n",
       "<table border=\"1\" class=\"dataframe\">\n",
       "  <thead>\n",
       "    <tr style=\"text-align: right;\">\n",
       "      <th></th>\n",
       "      <th>symboling</th>\n",
       "      <th>normalized-losses</th>\n",
       "      <th>make</th>\n",
       "      <th>fuel-type</th>\n",
       "      <th>aspiration</th>\n",
       "      <th>num-of-doors</th>\n",
       "      <th>body-style</th>\n",
       "      <th>drive-wheels</th>\n",
       "      <th>engine-location</th>\n",
       "      <th>wheel-base</th>\n",
       "      <th>...</th>\n",
       "      <th>engine-size</th>\n",
       "      <th>fuel-system</th>\n",
       "      <th>bore</th>\n",
       "      <th>stroke</th>\n",
       "      <th>compression-ratio</th>\n",
       "      <th>horsepower</th>\n",
       "      <th>peak-rpm</th>\n",
       "      <th>city-mpg</th>\n",
       "      <th>highway-mpg</th>\n",
       "      <th>price</th>\n",
       "    </tr>\n",
       "  </thead>\n",
       "  <tbody>\n",
       "    <tr>\n",
       "      <th>0</th>\n",
       "      <td>3</td>\n",
       "      <td>115.0</td>\n",
       "      <td>alfa-romero</td>\n",
       "      <td>gas</td>\n",
       "      <td>std</td>\n",
       "      <td>two</td>\n",
       "      <td>convertible</td>\n",
       "      <td>rwd</td>\n",
       "      <td>front</td>\n",
       "      <td>88.6</td>\n",
       "      <td>...</td>\n",
       "      <td>130</td>\n",
       "      <td>mpfi</td>\n",
       "      <td>3.47</td>\n",
       "      <td>2.68</td>\n",
       "      <td>9.0</td>\n",
       "      <td>111</td>\n",
       "      <td>5000</td>\n",
       "      <td>21</td>\n",
       "      <td>27</td>\n",
       "      <td>16500</td>\n",
       "    </tr>\n",
       "    <tr>\n",
       "      <th>1</th>\n",
       "      <td>1</td>\n",
       "      <td>115.0</td>\n",
       "      <td>alfa-romero</td>\n",
       "      <td>gas</td>\n",
       "      <td>std</td>\n",
       "      <td>two</td>\n",
       "      <td>hatchback</td>\n",
       "      <td>rwd</td>\n",
       "      <td>front</td>\n",
       "      <td>94.5</td>\n",
       "      <td>...</td>\n",
       "      <td>152</td>\n",
       "      <td>mpfi</td>\n",
       "      <td>2.68</td>\n",
       "      <td>3.47</td>\n",
       "      <td>9.0</td>\n",
       "      <td>154</td>\n",
       "      <td>5000</td>\n",
       "      <td>19</td>\n",
       "      <td>26</td>\n",
       "      <td>16500</td>\n",
       "    </tr>\n",
       "    <tr>\n",
       "      <th>2</th>\n",
       "      <td>2</td>\n",
       "      <td>164.0</td>\n",
       "      <td>audi</td>\n",
       "      <td>gas</td>\n",
       "      <td>std</td>\n",
       "      <td>four</td>\n",
       "      <td>sedan</td>\n",
       "      <td>fwd</td>\n",
       "      <td>front</td>\n",
       "      <td>99.8</td>\n",
       "      <td>...</td>\n",
       "      <td>109</td>\n",
       "      <td>mpfi</td>\n",
       "      <td>3.19</td>\n",
       "      <td>3.40</td>\n",
       "      <td>10.0</td>\n",
       "      <td>102</td>\n",
       "      <td>5500</td>\n",
       "      <td>24</td>\n",
       "      <td>30</td>\n",
       "      <td>13950</td>\n",
       "    </tr>\n",
       "    <tr>\n",
       "      <th>3</th>\n",
       "      <td>2</td>\n",
       "      <td>164.0</td>\n",
       "      <td>audi</td>\n",
       "      <td>gas</td>\n",
       "      <td>std</td>\n",
       "      <td>four</td>\n",
       "      <td>sedan</td>\n",
       "      <td>4wd</td>\n",
       "      <td>front</td>\n",
       "      <td>99.4</td>\n",
       "      <td>...</td>\n",
       "      <td>136</td>\n",
       "      <td>mpfi</td>\n",
       "      <td>3.19</td>\n",
       "      <td>3.40</td>\n",
       "      <td>8.0</td>\n",
       "      <td>115</td>\n",
       "      <td>5500</td>\n",
       "      <td>18</td>\n",
       "      <td>22</td>\n",
       "      <td>17450</td>\n",
       "    </tr>\n",
       "    <tr>\n",
       "      <th>4</th>\n",
       "      <td>2</td>\n",
       "      <td>115.0</td>\n",
       "      <td>audi</td>\n",
       "      <td>gas</td>\n",
       "      <td>std</td>\n",
       "      <td>two</td>\n",
       "      <td>sedan</td>\n",
       "      <td>fwd</td>\n",
       "      <td>front</td>\n",
       "      <td>99.8</td>\n",
       "      <td>...</td>\n",
       "      <td>136</td>\n",
       "      <td>mpfi</td>\n",
       "      <td>3.19</td>\n",
       "      <td>3.40</td>\n",
       "      <td>8.5</td>\n",
       "      <td>110</td>\n",
       "      <td>5500</td>\n",
       "      <td>19</td>\n",
       "      <td>25</td>\n",
       "      <td>15250</td>\n",
       "    </tr>\n",
       "  </tbody>\n",
       "</table>\n",
       "<p>5 rows × 26 columns</p>\n",
       "</div>"
      ],
      "text/plain": [
       "   symboling  normalized-losses         make fuel-type aspiration  \\\n",
       "0          3              115.0  alfa-romero       gas        std   \n",
       "1          1              115.0  alfa-romero       gas        std   \n",
       "2          2              164.0         audi       gas        std   \n",
       "3          2              164.0         audi       gas        std   \n",
       "4          2              115.0         audi       gas        std   \n",
       "\n",
       "  num-of-doors   body-style drive-wheels engine-location  wheel-base  ...  \\\n",
       "0          two  convertible          rwd           front        88.6  ...   \n",
       "1          two    hatchback          rwd           front        94.5  ...   \n",
       "2         four        sedan          fwd           front        99.8  ...   \n",
       "3         four        sedan          4wd           front        99.4  ...   \n",
       "4          two        sedan          fwd           front        99.8  ...   \n",
       "\n",
       "   engine-size  fuel-system  bore  stroke compression-ratio horsepower  \\\n",
       "0          130         mpfi  3.47    2.68               9.0        111   \n",
       "1          152         mpfi  2.68    3.47               9.0        154   \n",
       "2          109         mpfi  3.19    3.40              10.0        102   \n",
       "3          136         mpfi  3.19    3.40               8.0        115   \n",
       "4          136         mpfi  3.19    3.40               8.5        110   \n",
       "\n",
       "   peak-rpm city-mpg  highway-mpg  price  \n",
       "0      5000       21           27  16500  \n",
       "1      5000       19           26  16500  \n",
       "2      5500       24           30  13950  \n",
       "3      5500       18           22  17450  \n",
       "4      5500       19           25  15250  \n",
       "\n",
       "[5 rows x 26 columns]"
      ]
     },
     "execution_count": 15,
     "metadata": {},
     "output_type": "execute_result"
    }
   ],
   "source": [
    "dd.head()"
   ]
  },
  {
   "cell_type": "code",
   "execution_count": 16,
   "metadata": {
    "scrolled": true
   },
   "outputs": [
    {
     "data": {
      "text/html": [
       "<div>\n",
       "<style scoped>\n",
       "    .dataframe tbody tr th:only-of-type {\n",
       "        vertical-align: middle;\n",
       "    }\n",
       "\n",
       "    .dataframe tbody tr th {\n",
       "        vertical-align: top;\n",
       "    }\n",
       "\n",
       "    .dataframe thead th {\n",
       "        text-align: right;\n",
       "    }\n",
       "</style>\n",
       "<table border=\"1\" class=\"dataframe\">\n",
       "  <thead>\n",
       "    <tr style=\"text-align: right;\">\n",
       "      <th></th>\n",
       "      <th>symboling</th>\n",
       "      <th>normalized-losses</th>\n",
       "      <th>make</th>\n",
       "      <th>fuel-type</th>\n",
       "      <th>aspiration</th>\n",
       "      <th>num-of-doors</th>\n",
       "      <th>body-style</th>\n",
       "      <th>drive-wheels</th>\n",
       "      <th>engine-location</th>\n",
       "      <th>wheel-base</th>\n",
       "      <th>...</th>\n",
       "      <th>city-mpg</th>\n",
       "      <th>highway-mpg</th>\n",
       "      <th>price</th>\n",
       "      <th>stroke_ratio</th>\n",
       "      <th>avg_mpg</th>\n",
       "      <th>make_and_style</th>\n",
       "      <th>torque</th>\n",
       "      <th>PWR (hp/lb)</th>\n",
       "      <th>volume_m3</th>\n",
       "      <th>engine_displacement</th>\n",
       "    </tr>\n",
       "  </thead>\n",
       "  <tbody>\n",
       "    <tr>\n",
       "      <th>0</th>\n",
       "      <td>3</td>\n",
       "      <td>115.0</td>\n",
       "      <td>alfa-romero</td>\n",
       "      <td>gas</td>\n",
       "      <td>std</td>\n",
       "      <td>2</td>\n",
       "      <td>convertible</td>\n",
       "      <td>rwd</td>\n",
       "      <td>front</td>\n",
       "      <td>88.6</td>\n",
       "      <td>...</td>\n",
       "      <td>21</td>\n",
       "      <td>27</td>\n",
       "      <td>16500</td>\n",
       "      <td>0.772334</td>\n",
       "      <td>24.0</td>\n",
       "      <td>alfa-romero-convertible</td>\n",
       "      <td>116.59</td>\n",
       "      <td>0.044</td>\n",
       "      <td>0.528020</td>\n",
       "      <td>405.511904</td>\n",
       "    </tr>\n",
       "    <tr>\n",
       "      <th>1</th>\n",
       "      <td>1</td>\n",
       "      <td>115.0</td>\n",
       "      <td>alfa-romero</td>\n",
       "      <td>gas</td>\n",
       "      <td>std</td>\n",
       "      <td>2</td>\n",
       "      <td>hatchback</td>\n",
       "      <td>rwd</td>\n",
       "      <td>front</td>\n",
       "      <td>94.5</td>\n",
       "      <td>...</td>\n",
       "      <td>19</td>\n",
       "      <td>26</td>\n",
       "      <td>16500</td>\n",
       "      <td>1.294776</td>\n",
       "      <td>22.5</td>\n",
       "      <td>alfa-romero-hatchback</td>\n",
       "      <td>161.76</td>\n",
       "      <td>0.055</td>\n",
       "      <td>0.587593</td>\n",
       "      <td>469.786125</td>\n",
       "    </tr>\n",
       "    <tr>\n",
       "      <th>2</th>\n",
       "      <td>2</td>\n",
       "      <td>164.0</td>\n",
       "      <td>audi</td>\n",
       "      <td>gas</td>\n",
       "      <td>std</td>\n",
       "      <td>4</td>\n",
       "      <td>sedan</td>\n",
       "      <td>fwd</td>\n",
       "      <td>front</td>\n",
       "      <td>99.8</td>\n",
       "      <td>...</td>\n",
       "      <td>24</td>\n",
       "      <td>30</td>\n",
       "      <td>13950</td>\n",
       "      <td>1.065831</td>\n",
       "      <td>27.0</td>\n",
       "      <td>audi-sedan</td>\n",
       "      <td>97.40</td>\n",
       "      <td>0.044</td>\n",
       "      <td>0.634817</td>\n",
       "      <td>434.780590</td>\n",
       "    </tr>\n",
       "    <tr>\n",
       "      <th>3</th>\n",
       "      <td>2</td>\n",
       "      <td>164.0</td>\n",
       "      <td>audi</td>\n",
       "      <td>gas</td>\n",
       "      <td>std</td>\n",
       "      <td>4</td>\n",
       "      <td>sedan</td>\n",
       "      <td>4wd</td>\n",
       "      <td>front</td>\n",
       "      <td>99.4</td>\n",
       "      <td>...</td>\n",
       "      <td>18</td>\n",
       "      <td>22</td>\n",
       "      <td>17450</td>\n",
       "      <td>1.065831</td>\n",
       "      <td>20.0</td>\n",
       "      <td>audi-sedan</td>\n",
       "      <td>109.81</td>\n",
       "      <td>0.041</td>\n",
       "      <td>0.636735</td>\n",
       "      <td>543.475737</td>\n",
       "    </tr>\n",
       "    <tr>\n",
       "      <th>4</th>\n",
       "      <td>2</td>\n",
       "      <td>115.0</td>\n",
       "      <td>audi</td>\n",
       "      <td>gas</td>\n",
       "      <td>std</td>\n",
       "      <td>2</td>\n",
       "      <td>sedan</td>\n",
       "      <td>fwd</td>\n",
       "      <td>front</td>\n",
       "      <td>99.8</td>\n",
       "      <td>...</td>\n",
       "      <td>19</td>\n",
       "      <td>25</td>\n",
       "      <td>15250</td>\n",
       "      <td>1.065831</td>\n",
       "      <td>22.0</td>\n",
       "      <td>audi-sedan</td>\n",
       "      <td>105.04</td>\n",
       "      <td>0.044</td>\n",
       "      <td>0.624190</td>\n",
       "      <td>543.475737</td>\n",
       "    </tr>\n",
       "  </tbody>\n",
       "</table>\n",
       "<p>5 rows × 33 columns</p>\n",
       "</div>"
      ],
      "text/plain": [
       "   symboling  normalized-losses         make fuel-type aspiration  \\\n",
       "0          3              115.0  alfa-romero       gas        std   \n",
       "1          1              115.0  alfa-romero       gas        std   \n",
       "2          2              164.0         audi       gas        std   \n",
       "3          2              164.0         audi       gas        std   \n",
       "4          2              115.0         audi       gas        std   \n",
       "\n",
       "   num-of-doors   body-style drive-wheels engine-location  wheel-base  ...  \\\n",
       "0             2  convertible          rwd           front        88.6  ...   \n",
       "1             2    hatchback          rwd           front        94.5  ...   \n",
       "2             4        sedan          fwd           front        99.8  ...   \n",
       "3             4        sedan          4wd           front        99.4  ...   \n",
       "4             2        sedan          fwd           front        99.8  ...   \n",
       "\n",
       "   city-mpg  highway-mpg  price  stroke_ratio avg_mpg  \\\n",
       "0        21           27  16500      0.772334    24.0   \n",
       "1        19           26  16500      1.294776    22.5   \n",
       "2        24           30  13950      1.065831    27.0   \n",
       "3        18           22  17450      1.065831    20.0   \n",
       "4        19           25  15250      1.065831    22.0   \n",
       "\n",
       "            make_and_style  torque PWR (hp/lb)  volume_m3  engine_displacement  \n",
       "0  alfa-romero-convertible  116.59       0.044   0.528020           405.511904  \n",
       "1    alfa-romero-hatchback  161.76       0.055   0.587593           469.786125  \n",
       "2               audi-sedan   97.40       0.044   0.634817           434.780590  \n",
       "3               audi-sedan  109.81       0.041   0.636735           543.475737  \n",
       "4               audi-sedan  105.04       0.044   0.624190           543.475737  \n",
       "\n",
       "[5 rows x 33 columns]"
      ]
     },
     "execution_count": 16,
     "metadata": {},
     "output_type": "execute_result"
    }
   ],
   "source": [
    "df.head()"
   ]
  },
  {
   "cell_type": "code",
   "execution_count": 17,
   "metadata": {},
   "outputs": [],
   "source": [
    "x1=dd.drop('price',axis=1)\n",
    "y1=dd.price"
   ]
  },
  {
   "cell_type": "code",
   "execution_count": 18,
   "metadata": {},
   "outputs": [],
   "source": [
    "df['engine_displacement']=(np.pi*(df['bore'] ** 2))*df['stroke']*df['num-of-cylinders']"
   ]
  },
  {
   "cell_type": "code",
   "execution_count": 20,
   "metadata": {},
   "outputs": [
    {
     "data": {
      "text/html": [
       "<div>\n",
       "<style scoped>\n",
       "    .dataframe tbody tr th:only-of-type {\n",
       "        vertical-align: middle;\n",
       "    }\n",
       "\n",
       "    .dataframe tbody tr th {\n",
       "        vertical-align: top;\n",
       "    }\n",
       "\n",
       "    .dataframe thead th {\n",
       "        text-align: right;\n",
       "    }\n",
       "</style>\n",
       "<table border=\"1\" class=\"dataframe\">\n",
       "  <thead>\n",
       "    <tr style=\"text-align: right;\">\n",
       "      <th></th>\n",
       "      <th>make</th>\n",
       "      <th>make_freq</th>\n",
       "    </tr>\n",
       "  </thead>\n",
       "  <tbody>\n",
       "    <tr>\n",
       "      <th>0</th>\n",
       "      <td>alfa-romero</td>\n",
       "      <td>0.010417</td>\n",
       "    </tr>\n",
       "    <tr>\n",
       "      <th>1</th>\n",
       "      <td>alfa-romero</td>\n",
       "      <td>0.010417</td>\n",
       "    </tr>\n",
       "    <tr>\n",
       "      <th>2</th>\n",
       "      <td>audi</td>\n",
       "      <td>0.031250</td>\n",
       "    </tr>\n",
       "    <tr>\n",
       "      <th>3</th>\n",
       "      <td>audi</td>\n",
       "      <td>0.031250</td>\n",
       "    </tr>\n",
       "    <tr>\n",
       "      <th>4</th>\n",
       "      <td>audi</td>\n",
       "      <td>0.031250</td>\n",
       "    </tr>\n",
       "  </tbody>\n",
       "</table>\n",
       "</div>"
      ],
      "text/plain": [
       "          make  make_freq\n",
       "0  alfa-romero   0.010417\n",
       "1  alfa-romero   0.010417\n",
       "2         audi   0.031250\n",
       "3         audi   0.031250\n",
       "4         audi   0.031250"
      ]
     },
     "execution_count": 20,
     "metadata": {},
     "output_type": "execute_result"
    }
   ],
   "source": [
    "df['make_freq']=(df.groupby('make')['make'].transform('count')/ df.make.count())\n",
    "df[['make','make_freq']].head()"
   ]
  },
  {
   "cell_type": "code",
   "execution_count": 21,
   "metadata": {},
   "outputs": [],
   "source": [
    "df_with_le=df.copy()"
   ]
  },
  {
   "cell_type": "code",
   "execution_count": 22,
   "metadata": {},
   "outputs": [],
   "source": [
    "le=LabelEncoder()\n",
    "# df_with_le['drive-wheels']=le.fit_transform(df_with_le['drive-wheels'])\n",
    "# df_with_le['engine-location']=le.fit_transform(df_with_le['engine-location'])\n",
    "df_with_le['make_and_style']=le.fit_transform(df_with_le['make_and_style'])"
   ]
  },
  {
   "cell_type": "code",
   "execution_count": 66,
   "metadata": {},
   "outputs": [
    {
     "data": {
      "text/plain": [
       "<AxesSubplot:xlabel='torque', ylabel='Density'>"
      ]
     },
     "execution_count": 66,
     "metadata": {},
     "output_type": "execute_result"
    },
    {
     "data": {
      "image/png": "[encoded data removed]",
      "text/plain": [
       "<Figure size 576x288 with 2 Axes>"
      ]
     },
     "metadata": {},
     "output_type": "display_data"
    }
   ],
   "source": [
    "fig,axis=plt.subplots(1,2,figsize=(8,4))\n",
    "sns.kdeplot(df.torque,shade=True,ax=axis[0])\n",
    "sns.kdeplot(df_scaled.torque,shade=True,ax=axis[1])"
   ]
  },
  {
   "cell_type": "code",
   "execution_count": 26,
   "metadata": {},
   "outputs": [
    {
     "data": {
      "text/html": [
       "<div>\n",
       "<style scoped>\n",
       "    .dataframe tbody tr th:only-of-type {\n",
       "        vertical-align: middle;\n",
       "    }\n",
       "\n",
       "    .dataframe tbody tr th {\n",
       "        vertical-align: top;\n",
       "    }\n",
       "\n",
       "    .dataframe thead th {\n",
       "        text-align: right;\n",
       "    }\n",
       "</style>\n",
       "<table border=\"1\" class=\"dataframe\">\n",
       "  <thead>\n",
       "    <tr style=\"text-align: right;\">\n",
       "      <th></th>\n",
       "      <th>symboling</th>\n",
       "      <th>normalized-losses</th>\n",
       "      <th>make</th>\n",
       "      <th>fuel-type</th>\n",
       "      <th>aspiration</th>\n",
       "      <th>num-of-doors</th>\n",
       "      <th>body-style</th>\n",
       "      <th>drive-wheels</th>\n",
       "      <th>engine-location</th>\n",
       "      <th>wheel-base</th>\n",
       "      <th>...</th>\n",
       "      <th>highway-mpg</th>\n",
       "      <th>price</th>\n",
       "      <th>stroke_ratio</th>\n",
       "      <th>avg_mpg</th>\n",
       "      <th>make_and_style</th>\n",
       "      <th>torque</th>\n",
       "      <th>PWR (hp/lb)</th>\n",
       "      <th>volume_m3</th>\n",
       "      <th>engine_displacement</th>\n",
       "      <th>make_freq</th>\n",
       "    </tr>\n",
       "  </thead>\n",
       "  <tbody>\n",
       "    <tr>\n",
       "      <th>0</th>\n",
       "      <td>3</td>\n",
       "      <td>115.0</td>\n",
       "      <td>alfa-romero</td>\n",
       "      <td>gas</td>\n",
       "      <td>std</td>\n",
       "      <td>2</td>\n",
       "      <td>convertible</td>\n",
       "      <td>rwd</td>\n",
       "      <td>front</td>\n",
       "      <td>88.6</td>\n",
       "      <td>...</td>\n",
       "      <td>27</td>\n",
       "      <td>16500</td>\n",
       "      <td>0.772334</td>\n",
       "      <td>24.0</td>\n",
       "      <td>0</td>\n",
       "      <td>116.59</td>\n",
       "      <td>0.044</td>\n",
       "      <td>0.528020</td>\n",
       "      <td>405.511904</td>\n",
       "      <td>0.010417</td>\n",
       "    </tr>\n",
       "    <tr>\n",
       "      <th>1</th>\n",
       "      <td>1</td>\n",
       "      <td>115.0</td>\n",
       "      <td>alfa-romero</td>\n",
       "      <td>gas</td>\n",
       "      <td>std</td>\n",
       "      <td>2</td>\n",
       "      <td>hatchback</td>\n",
       "      <td>rwd</td>\n",
       "      <td>front</td>\n",
       "      <td>94.5</td>\n",
       "      <td>...</td>\n",
       "      <td>26</td>\n",
       "      <td>16500</td>\n",
       "      <td>1.294776</td>\n",
       "      <td>22.5</td>\n",
       "      <td>1</td>\n",
       "      <td>161.76</td>\n",
       "      <td>0.055</td>\n",
       "      <td>0.587593</td>\n",
       "      <td>469.786125</td>\n",
       "      <td>0.010417</td>\n",
       "    </tr>\n",
       "    <tr>\n",
       "      <th>2</th>\n",
       "      <td>2</td>\n",
       "      <td>164.0</td>\n",
       "      <td>audi</td>\n",
       "      <td>gas</td>\n",
       "      <td>std</td>\n",
       "      <td>4</td>\n",
       "      <td>sedan</td>\n",
       "      <td>fwd</td>\n",
       "      <td>front</td>\n",
       "      <td>99.8</td>\n",
       "      <td>...</td>\n",
       "      <td>30</td>\n",
       "      <td>13950</td>\n",
       "      <td>1.065831</td>\n",
       "      <td>27.0</td>\n",
       "      <td>2</td>\n",
       "      <td>97.40</td>\n",
       "      <td>0.044</td>\n",
       "      <td>0.634817</td>\n",
       "      <td>434.780590</td>\n",
       "      <td>0.031250</td>\n",
       "    </tr>\n",
       "    <tr>\n",
       "      <th>3</th>\n",
       "      <td>2</td>\n",
       "      <td>164.0</td>\n",
       "      <td>audi</td>\n",
       "      <td>gas</td>\n",
       "      <td>std</td>\n",
       "      <td>4</td>\n",
       "      <td>sedan</td>\n",
       "      <td>4wd</td>\n",
       "      <td>front</td>\n",
       "      <td>99.4</td>\n",
       "      <td>...</td>\n",
       "      <td>22</td>\n",
       "      <td>17450</td>\n",
       "      <td>1.065831</td>\n",
       "      <td>20.0</td>\n",
       "      <td>2</td>\n",
       "      <td>109.81</td>\n",
       "      <td>0.041</td>\n",
       "      <td>0.636735</td>\n",
       "      <td>543.475737</td>\n",
       "      <td>0.031250</td>\n",
       "    </tr>\n",
       "    <tr>\n",
       "      <th>4</th>\n",
       "      <td>2</td>\n",
       "      <td>115.0</td>\n",
       "      <td>audi</td>\n",
       "      <td>gas</td>\n",
       "      <td>std</td>\n",
       "      <td>2</td>\n",
       "      <td>sedan</td>\n",
       "      <td>fwd</td>\n",
       "      <td>front</td>\n",
       "      <td>99.8</td>\n",
       "      <td>...</td>\n",
       "      <td>25</td>\n",
       "      <td>15250</td>\n",
       "      <td>1.065831</td>\n",
       "      <td>22.0</td>\n",
       "      <td>2</td>\n",
       "      <td>105.04</td>\n",
       "      <td>0.044</td>\n",
       "      <td>0.624190</td>\n",
       "      <td>543.475737</td>\n",
       "      <td>0.031250</td>\n",
       "    </tr>\n",
       "  </tbody>\n",
       "</table>\n",
       "<p>5 rows × 34 columns</p>\n",
       "</div>"
      ],
      "text/plain": [
       "   symboling  normalized-losses         make fuel-type aspiration  \\\n",
       "0          3              115.0  alfa-romero       gas        std   \n",
       "1          1              115.0  alfa-romero       gas        std   \n",
       "2          2              164.0         audi       gas        std   \n",
       "3          2              164.0         audi       gas        std   \n",
       "4          2              115.0         audi       gas        std   \n",
       "\n",
       "   num-of-doors   body-style drive-wheels engine-location  wheel-base  ...  \\\n",
       "0             2  convertible          rwd           front        88.6  ...   \n",
       "1             2    hatchback          rwd           front        94.5  ...   \n",
       "2             4        sedan          fwd           front        99.8  ...   \n",
       "3             4        sedan          4wd           front        99.4  ...   \n",
       "4             2        sedan          fwd           front        99.8  ...   \n",
       "\n",
       "   highway-mpg  price  stroke_ratio  avg_mpg make_and_style  torque  \\\n",
       "0           27  16500      0.772334     24.0              0  116.59   \n",
       "1           26  16500      1.294776     22.5              1  161.76   \n",
       "2           30  13950      1.065831     27.0              2   97.40   \n",
       "3           22  17450      1.065831     20.0              2  109.81   \n",
       "4           25  15250      1.065831     22.0              2  105.04   \n",
       "\n",
       "   PWR (hp/lb) volume_m3  engine_displacement  make_freq  \n",
       "0        0.044  0.528020           405.511904   0.010417  \n",
       "1        0.055  0.587593           469.786125   0.010417  \n",
       "2        0.044  0.634817           434.780590   0.031250  \n",
       "3        0.041  0.636735           543.475737   0.031250  \n",
       "4        0.044  0.624190           543.475737   0.031250  \n",
       "\n",
       "[5 rows x 34 columns]"
      ]
     },
     "execution_count": 26,
     "metadata": {},
     "output_type": "execute_result"
    }
   ],
   "source": [
    "df_with_le.head()"
   ]
  },
  {
   "cell_type": "code",
   "execution_count": 27,
   "metadata": {},
   "outputs": [
    {
     "data": {
      "image/png": "[encoded data removed]",
      "text/plain": [
       "<Figure size 1152x720 with 2 Axes>"
      ]
     },
     "metadata": {
      "needs_background": "light"
     },
     "output_type": "display_data"
    }
   ],
   "source": [
    "plt.figure(figsize=(16,10))\n",
    "sns.heatmap(df_with_le.drop(['make','body-style','city-mpg','highway-mpg','peak-rpm','horsepower','bore','curb-weight','length','width','height','stroke'],axis=1).corr(),annot=True)\n",
    "plt.show()"
   ]
  },
  {
   "cell_type": "code",
   "execution_count": 28,
   "metadata": {
    "scrolled": false
   },
   "outputs": [],
   "source": [
    "scale=['wheel-base','torque','engine_displacement','avg_mpg','volume_m3','engine-size']"
   ]
  },
  {
   "cell_type": "code",
   "execution_count": 71,
   "metadata": {},
   "outputs": [
    {
     "data": {
      "text/plain": [
       "<AxesSubplot:xlabel='engine_displacement', ylabel='Density'>"
      ]
     },
     "execution_count": 71,
     "metadata": {},
     "output_type": "execute_result"
    },
    {
     "data": {
      "image/png": "[encoded data removed]",
      "text/plain": [
       "<Figure size 1296x288 with 2 Axes>"
      ]
     },
     "metadata": {},
     "output_type": "display_data"
    }
   ],
   "source": [
    "fig,axis=plt.subplots(1,2,figsize=(18,4))\n",
    "sns.kdeplot(df.engine_displacement,ax=axis[0],shade='dark')\n",
    "sns.kdeplot(df_scaled.engine_displacement,ax=axis[1],shade='dark')"
   ]
  },
  {
   "cell_type": "code",
   "execution_count": 30,
   "metadata": {},
   "outputs": [
    {
     "data": {
      "image/png": "[encoded data removed]",
      "text/plain": [
       "<Figure size 720x432 with 6 Axes>"
      ]
     },
     "metadata": {
      "needs_background": "light"
     },
     "output_type": "display_data"
    }
   ],
   "source": [
    "plt.figure(figsize=(10,6))\n",
    "for i in range(len(scale)):\n",
    "    plt.subplot(2,3,i+1)\n",
    "    sns.boxplot(x=df[scale[i]])"
   ]
  },
  {
   "cell_type": "markdown",
   "metadata": {},
   "source": [
    "## EDA"
   ]
  },
  {
   "cell_type": "code",
   "execution_count": 31,
   "metadata": {},
   "outputs": [],
   "source": [
    "df_eda=df_with_le.copy()"
   ]
  },
  {
   "cell_type": "code",
   "execution_count": 32,
   "metadata": {},
   "outputs": [
    {
     "data": {
      "text/plain": [
       "front    189\n",
       "rear       3\n",
       "Name: engine-location, dtype: int64"
      ]
     },
     "execution_count": 32,
     "metadata": {},
     "output_type": "execute_result"
    }
   ],
   "source": [
    "df['engine-location'].value_counts()"
   ]
  },
  {
   "cell_type": "code",
   "execution_count": 33,
   "metadata": {
    "scrolled": true
   },
   "outputs": [
    {
     "data": {
      "text/plain": [
       "symboling              0\n",
       "normalized-losses      0\n",
       "make                   0\n",
       "fuel-type              0\n",
       "aspiration             0\n",
       "num-of-doors           0\n",
       "body-style             0\n",
       "drive-wheels           0\n",
       "engine-location        0\n",
       "wheel-base             0\n",
       "length                 0\n",
       "width                  0\n",
       "height                 0\n",
       "curb-weight            0\n",
       "engine-type            0\n",
       "num-of-cylinders       0\n",
       "engine-size            0\n",
       "fuel-system            0\n",
       "bore                   0\n",
       "stroke                 0\n",
       "compression-ratio      0\n",
       "horsepower             0\n",
       "peak-rpm               0\n",
       "city-mpg               0\n",
       "highway-mpg            0\n",
       "price                  0\n",
       "stroke_ratio           0\n",
       "avg_mpg                0\n",
       "make_and_style         0\n",
       "torque                 0\n",
       "PWR (hp/lb)            0\n",
       "volume_m3              0\n",
       "engine_displacement    0\n",
       "make_freq              0\n",
       "dtype: int64"
      ]
     },
     "execution_count": 33,
     "metadata": {},
     "output_type": "execute_result"
    }
   ],
   "source": [
    "df_eda.isnull().sum()"
   ]
  },
  {
   "cell_type": "code",
   "execution_count": 34,
   "metadata": {},
   "outputs": [],
   "source": [
    "df_eda.drop(['make','body-style','city-mpg','highway-mpg','peak-rpm','horsepower','bore','curb-weight','length','width','height','stroke'],axis=1,inplace=True)"
   ]
  },
  {
   "cell_type": "code",
   "execution_count": 35,
   "metadata": {},
   "outputs": [
    {
     "data": {
      "text/html": [
       "<div>\n",
       "<style scoped>\n",
       "    .dataframe tbody tr th:only-of-type {\n",
       "        vertical-align: middle;\n",
       "    }\n",
       "\n",
       "    .dataframe tbody tr th {\n",
       "        vertical-align: top;\n",
       "    }\n",
       "\n",
       "    .dataframe thead th {\n",
       "        text-align: right;\n",
       "    }\n",
       "</style>\n",
       "<table border=\"1\" class=\"dataframe\">\n",
       "  <thead>\n",
       "    <tr style=\"text-align: right;\">\n",
       "      <th></th>\n",
       "      <th>symboling</th>\n",
       "      <th>normalized-losses</th>\n",
       "      <th>fuel-type</th>\n",
       "      <th>aspiration</th>\n",
       "      <th>num-of-doors</th>\n",
       "      <th>drive-wheels</th>\n",
       "      <th>engine-location</th>\n",
       "      <th>wheel-base</th>\n",
       "      <th>engine-type</th>\n",
       "      <th>num-of-cylinders</th>\n",
       "      <th>...</th>\n",
       "      <th>compression-ratio</th>\n",
       "      <th>price</th>\n",
       "      <th>stroke_ratio</th>\n",
       "      <th>avg_mpg</th>\n",
       "      <th>make_and_style</th>\n",
       "      <th>torque</th>\n",
       "      <th>PWR (hp/lb)</th>\n",
       "      <th>volume_m3</th>\n",
       "      <th>engine_displacement</th>\n",
       "      <th>make_freq</th>\n",
       "    </tr>\n",
       "  </thead>\n",
       "  <tbody>\n",
       "    <tr>\n",
       "      <th>0</th>\n",
       "      <td>3</td>\n",
       "      <td>115.0</td>\n",
       "      <td>gas</td>\n",
       "      <td>std</td>\n",
       "      <td>2</td>\n",
       "      <td>rwd</td>\n",
       "      <td>front</td>\n",
       "      <td>88.6</td>\n",
       "      <td>dohc</td>\n",
       "      <td>4</td>\n",
       "      <td>...</td>\n",
       "      <td>9.0</td>\n",
       "      <td>16500</td>\n",
       "      <td>0.772334</td>\n",
       "      <td>24.0</td>\n",
       "      <td>0</td>\n",
       "      <td>116.59</td>\n",
       "      <td>0.044</td>\n",
       "      <td>0.528020</td>\n",
       "      <td>405.511904</td>\n",
       "      <td>0.010417</td>\n",
       "    </tr>\n",
       "    <tr>\n",
       "      <th>1</th>\n",
       "      <td>1</td>\n",
       "      <td>115.0</td>\n",
       "      <td>gas</td>\n",
       "      <td>std</td>\n",
       "      <td>2</td>\n",
       "      <td>rwd</td>\n",
       "      <td>front</td>\n",
       "      <td>94.5</td>\n",
       "      <td>ohcv</td>\n",
       "      <td>6</td>\n",
       "      <td>...</td>\n",
       "      <td>9.0</td>\n",
       "      <td>16500</td>\n",
       "      <td>1.294776</td>\n",
       "      <td>22.5</td>\n",
       "      <td>1</td>\n",
       "      <td>161.76</td>\n",
       "      <td>0.055</td>\n",
       "      <td>0.587593</td>\n",
       "      <td>469.786125</td>\n",
       "      <td>0.010417</td>\n",
       "    </tr>\n",
       "    <tr>\n",
       "      <th>2</th>\n",
       "      <td>2</td>\n",
       "      <td>164.0</td>\n",
       "      <td>gas</td>\n",
       "      <td>std</td>\n",
       "      <td>4</td>\n",
       "      <td>fwd</td>\n",
       "      <td>front</td>\n",
       "      <td>99.8</td>\n",
       "      <td>ohc</td>\n",
       "      <td>4</td>\n",
       "      <td>...</td>\n",
       "      <td>10.0</td>\n",
       "      <td>13950</td>\n",
       "      <td>1.065831</td>\n",
       "      <td>27.0</td>\n",
       "      <td>2</td>\n",
       "      <td>97.40</td>\n",
       "      <td>0.044</td>\n",
       "      <td>0.634817</td>\n",
       "      <td>434.780590</td>\n",
       "      <td>0.031250</td>\n",
       "    </tr>\n",
       "    <tr>\n",
       "      <th>3</th>\n",
       "      <td>2</td>\n",
       "      <td>164.0</td>\n",
       "      <td>gas</td>\n",
       "      <td>std</td>\n",
       "      <td>4</td>\n",
       "      <td>4wd</td>\n",
       "      <td>front</td>\n",
       "      <td>99.4</td>\n",
       "      <td>ohc</td>\n",
       "      <td>5</td>\n",
       "      <td>...</td>\n",
       "      <td>8.0</td>\n",
       "      <td>17450</td>\n",
       "      <td>1.065831</td>\n",
       "      <td>20.0</td>\n",
       "      <td>2</td>\n",
       "      <td>109.81</td>\n",
       "      <td>0.041</td>\n",
       "      <td>0.636735</td>\n",
       "      <td>543.475737</td>\n",
       "      <td>0.031250</td>\n",
       "    </tr>\n",
       "    <tr>\n",
       "      <th>4</th>\n",
       "      <td>2</td>\n",
       "      <td>115.0</td>\n",
       "      <td>gas</td>\n",
       "      <td>std</td>\n",
       "      <td>2</td>\n",
       "      <td>fwd</td>\n",
       "      <td>front</td>\n",
       "      <td>99.8</td>\n",
       "      <td>ohc</td>\n",
       "      <td>5</td>\n",
       "      <td>...</td>\n",
       "      <td>8.5</td>\n",
       "      <td>15250</td>\n",
       "      <td>1.065831</td>\n",
       "      <td>22.0</td>\n",
       "      <td>2</td>\n",
       "      <td>105.04</td>\n",
       "      <td>0.044</td>\n",
       "      <td>0.624190</td>\n",
       "      <td>543.475737</td>\n",
       "      <td>0.031250</td>\n",
       "    </tr>\n",
       "  </tbody>\n",
       "</table>\n",
       "<p>5 rows × 22 columns</p>\n",
       "</div>"
      ],
      "text/plain": [
       "   symboling  normalized-losses fuel-type aspiration  num-of-doors  \\\n",
       "0          3              115.0       gas        std             2   \n",
       "1          1              115.0       gas        std             2   \n",
       "2          2              164.0       gas        std             4   \n",
       "3          2              164.0       gas        std             4   \n",
       "4          2              115.0       gas        std             2   \n",
       "\n",
       "  drive-wheels engine-location  wheel-base engine-type  num-of-cylinders  ...  \\\n",
       "0          rwd           front        88.6        dohc                 4  ...   \n",
       "1          rwd           front        94.5        ohcv                 6  ...   \n",
       "2          fwd           front        99.8         ohc                 4  ...   \n",
       "3          4wd           front        99.4         ohc                 5  ...   \n",
       "4          fwd           front        99.8         ohc                 5  ...   \n",
       "\n",
       "   compression-ratio  price  stroke_ratio  avg_mpg  make_and_style  torque  \\\n",
       "0                9.0  16500      0.772334     24.0               0  116.59   \n",
       "1                9.0  16500      1.294776     22.5               1  161.76   \n",
       "2               10.0  13950      1.065831     27.0               2   97.40   \n",
       "3                8.0  17450      1.065831     20.0               2  109.81   \n",
       "4                8.5  15250      1.065831     22.0               2  105.04   \n",
       "\n",
       "   PWR (hp/lb)  volume_m3  engine_displacement  make_freq  \n",
       "0        0.044   0.528020           405.511904   0.010417  \n",
       "1        0.055   0.587593           469.786125   0.010417  \n",
       "2        0.044   0.634817           434.780590   0.031250  \n",
       "3        0.041   0.636735           543.475737   0.031250  \n",
       "4        0.044   0.624190           543.475737   0.031250  \n",
       "\n",
       "[5 rows x 22 columns]"
      ]
     },
     "execution_count": 35,
     "metadata": {},
     "output_type": "execute_result"
    }
   ],
   "source": [
    "df_eda.head()"
   ]
  },
  {
   "cell_type": "code",
   "execution_count": 36,
   "metadata": {},
   "outputs": [
    {
     "data": {
      "text/html": [
       "<div>\n",
       "<style scoped>\n",
       "    .dataframe tbody tr th:only-of-type {\n",
       "        vertical-align: middle;\n",
       "    }\n",
       "\n",
       "    .dataframe tbody tr th {\n",
       "        vertical-align: top;\n",
       "    }\n",
       "\n",
       "    .dataframe thead th {\n",
       "        text-align: right;\n",
       "    }\n",
       "</style>\n",
       "<table border=\"1\" class=\"dataframe\">\n",
       "  <thead>\n",
       "    <tr style=\"text-align: right;\">\n",
       "      <th>engine-type</th>\n",
       "      <th>dohc</th>\n",
       "      <th>l</th>\n",
       "      <th>ohc</th>\n",
       "      <th>ohcf</th>\n",
       "      <th>ohcv</th>\n",
       "    </tr>\n",
       "    <tr>\n",
       "      <th>fuel-type</th>\n",
       "      <th></th>\n",
       "      <th></th>\n",
       "      <th></th>\n",
       "      <th></th>\n",
       "      <th></th>\n",
       "    </tr>\n",
       "  </thead>\n",
       "  <tbody>\n",
       "    <tr>\n",
       "      <th>diesel</th>\n",
       "      <td>NaN</td>\n",
       "      <td>15797.000000</td>\n",
       "      <td>16213.071429</td>\n",
       "      <td>NaN</td>\n",
       "      <td>NaN</td>\n",
       "    </tr>\n",
       "    <tr>\n",
       "      <th>gas</th>\n",
       "      <td>18536.545455</td>\n",
       "      <td>13792.285714</td>\n",
       "      <td>11116.070866</td>\n",
       "      <td>13738.6</td>\n",
       "      <td>25098.384615</td>\n",
       "    </tr>\n",
       "  </tbody>\n",
       "</table>\n",
       "</div>"
      ],
      "text/plain": [
       "engine-type          dohc             l           ohc     ohcf          ohcv\n",
       "fuel-type                                                                   \n",
       "diesel                NaN  15797.000000  16213.071429      NaN           NaN\n",
       "gas          18536.545455  13792.285714  11116.070866  13738.6  25098.384615"
      ]
     },
     "execution_count": 36,
     "metadata": {},
     "output_type": "execute_result"
    }
   ],
   "source": [
    "pd.pivot_table(data=df_eda,index=['fuel-type'],columns=['engine-type'],values='price')"
   ]
  },
  {
   "cell_type": "markdown",
   "metadata": {},
   "source": [
    "#### symboling shows the risk rating. -3 is safe while +3 is pretty risky"
   ]
  },
  {
   "cell_type": "code",
   "execution_count": 37,
   "metadata": {},
   "outputs": [
    {
     "data": {
      "text/html": [
       "<div>\n",
       "<style scoped>\n",
       "    .dataframe tbody tr th:only-of-type {\n",
       "        vertical-align: middle;\n",
       "    }\n",
       "\n",
       "    .dataframe tbody tr th {\n",
       "        vertical-align: top;\n",
       "    }\n",
       "\n",
       "    .dataframe thead th {\n",
       "        text-align: right;\n",
       "    }\n",
       "</style>\n",
       "<table border=\"1\" class=\"dataframe\">\n",
       "  <thead>\n",
       "    <tr style=\"text-align: right;\">\n",
       "      <th>fuel-type</th>\n",
       "      <th>diesel</th>\n",
       "      <th>gas</th>\n",
       "    </tr>\n",
       "    <tr>\n",
       "      <th>symboling</th>\n",
       "      <th></th>\n",
       "      <th></th>\n",
       "    </tr>\n",
       "  </thead>\n",
       "  <tbody>\n",
       "    <tr>\n",
       "      <th>-2</th>\n",
       "      <td>NaN</td>\n",
       "      <td>15781.666667</td>\n",
       "    </tr>\n",
       "    <tr>\n",
       "      <th>-1</th>\n",
       "      <td>23713.600000</td>\n",
       "      <td>15453.352941</td>\n",
       "    </tr>\n",
       "    <tr>\n",
       "      <th>0</th>\n",
       "      <td>15503.600000</td>\n",
       "      <td>14352.547170</td>\n",
       "    </tr>\n",
       "    <tr>\n",
       "      <th>1</th>\n",
       "      <td>7099.000000</td>\n",
       "      <td>9721.460000</td>\n",
       "    </tr>\n",
       "    <tr>\n",
       "      <th>2</th>\n",
       "      <td>8421.666667</td>\n",
       "      <td>10297.750000</td>\n",
       "    </tr>\n",
       "    <tr>\n",
       "      <th>3</th>\n",
       "      <td>NaN</td>\n",
       "      <td>18154.545455</td>\n",
       "    </tr>\n",
       "  </tbody>\n",
       "</table>\n",
       "</div>"
      ],
      "text/plain": [
       "fuel-type        diesel           gas\n",
       "symboling                            \n",
       "-2                  NaN  15781.666667\n",
       "-1         23713.600000  15453.352941\n",
       " 0         15503.600000  14352.547170\n",
       " 1          7099.000000   9721.460000\n",
       " 2          8421.666667  10297.750000\n",
       " 3                  NaN  18154.545455"
      ]
     },
     "execution_count": 37,
     "metadata": {},
     "output_type": "execute_result"
    }
   ],
   "source": [
    "pd.crosstab(index=df_eda['symboling'],columns=df_eda['fuel-type'],values=df_eda.price,aggfunc='mean')"
   ]
  },
  {
   "cell_type": "markdown",
   "metadata": {},
   "source": [
    "### Relatively safer cars have more buyers, naturally"
   ]
  },
  {
   "cell_type": "code",
   "execution_count": 38,
   "metadata": {},
   "outputs": [
    {
     "data": {
      "image/png": "[encoded data removed]",
      "text/plain": [
       "<Figure size 720x432 with 1 Axes>"
      ]
     },
     "metadata": {
      "needs_background": "light"
     },
     "output_type": "display_data"
    }
   ],
   "source": [
    "plt.figure(figsize=(10,6))\n",
    "sns.countplot(data=df_eda,x='symboling')\n",
    "plt.show()"
   ]
  },
  {
   "cell_type": "markdown",
   "metadata": {},
   "source": [
    "### As expected, the riskiest cars are ones with highest prices"
   ]
  },
  {
   "cell_type": "code",
   "execution_count": 331,
   "metadata": {},
   "outputs": [
    {
     "data": {
      "image/png": "[encoded data removed]",
      "text/plain": [
       "<Figure size 720x432 with 1 Axes>"
      ]
     },
     "metadata": {},
     "output_type": "display_data"
    }
   ],
   "source": [
    "plt.figure(figsize=(10,6))\n",
    "sns.barplot(data=df_eda,x='symboling',y='price')\n",
    "plt.show()"
   ]
  },
  {
   "cell_type": "code",
   "execution_count": 336,
   "metadata": {
    "collapsed": true
   },
   "outputs": [
    {
     "name": "stderr",
     "output_type": "stream",
     "text": [
      "C:\\Users\\HP\\anaconda3\\lib\\site-packages\\seaborn\\distributions.py:2551: FutureWarning: `distplot` is a deprecated function and will be removed in a future version. Please adapt your code to use either `displot` (a figure-level function with similar flexibility) or `histplot` (an axes-level function for histograms).\n",
      "  warnings.warn(msg, FutureWarning)\n"
     ]
    },
    {
     "data": {
      "image/png": "[encoded data removed]",
      "text/plain": [
       "<Figure size 720x432 with 1 Axes>"
      ]
     },
     "metadata": {},
     "output_type": "display_data"
    }
   ],
   "source": [
    "plt.figure(figsize=(10,6))\n",
    "sns.set_style('darkgrid')\n",
    "sns.distplot(df_eda['normalized-losses'])\n",
    "plt.show()"
   ]
  },
  {
   "cell_type": "markdown",
   "metadata": {},
   "source": [
    "### As the prices increase, the average mileage decreases"
   ]
  },
  {
   "cell_type": "code",
   "execution_count": 580,
   "metadata": {
    "scrolled": true
   },
   "outputs": [
    {
     "data": {
      "image/png": "[encoded data removed]",
      "text/plain": [
       "<Figure size 720x432 with 1 Axes>"
      ]
     },
     "metadata": {},
     "output_type": "display_data"
    }
   ],
   "source": [
    "plt.figure(figsize=(10,6))\n",
    "plt.scatter(data=df_eda,x='price',y='avg_mpg')\n",
    "plt.ylabel('Average Mileage',size=13)\n",
    "plt.xlabel('Price',size=13)\n",
    "plt.show()"
   ]
  },
  {
   "cell_type": "code",
   "execution_count": 581,
   "metadata": {},
   "outputs": [
    {
     "data": {
      "image/png": "[encoded data removed]",
      "text/plain": [
       "<Figure size 720x432 with 1 Axes>"
      ]
     },
     "metadata": {},
     "output_type": "display_data"
    }
   ],
   "source": [
    "plt.figure(figsize=(10,6))\n",
    "plt.scatter(data=df_eda,x='price',y='torque')\n",
    "plt.ylabel('Torque',size=13)\n",
    "plt.xlabel('Price',size=13)\n",
    "plt.show()"
   ]
  },
  {
   "cell_type": "code",
   "execution_count": 585,
   "metadata": {},
   "outputs": [
    {
     "data": {
      "image/png": "[encoded data removed]",
      "text/plain": [
       "<Figure size 720x432 with 1 Axes>"
      ]
     },
     "metadata": {},
     "output_type": "display_data"
    }
   ],
   "source": [
    "plt.figure(figsize=(10,6))\n",
    "plt.scatter(data=df_eda,x='price',y='volume_m3')\n",
    "plt.ylabel('volume',size=13)\n",
    "plt.xlabel('Price',size=13)\n",
    "plt.show()"
   ]
  },
  {
   "cell_type": "code",
   "execution_count": 889,
   "metadata": {},
   "outputs": [
    {
     "data": {
      "image/png": "[encoded data removed]",
      "text/plain": [
       "<Figure size 720x432 with 1 Axes>"
      ]
     },
     "metadata": {},
     "output_type": "display_data"
    }
   ],
   "source": [
    "plt.figure(figsize=(10,6))\n",
    "plt.scatter(data=df_eda,x='price',y='engine_displacement')\n",
    "plt.ylabel('engine_displacement',size=13)\n",
    "plt.xlabel('Price',size=13)\n",
    "plt.show()"
   ]
  },
  {
   "cell_type": "code",
   "execution_count": 601,
   "metadata": {},
   "outputs": [
    {
     "data": {
      "image/png": "[encoded data removed]",
      "text/plain": [
       "<Figure size 720x432 with 1 Axes>"
      ]
     },
     "metadata": {},
     "output_type": "display_data"
    }
   ],
   "source": [
    "plt.figure(figsize=(10,6))\n",
    "plt.scatter(data=df_eda,x='price',y='PWR (hp/lb)')\n",
    "plt.ylabel('Power to wt ratio',size=13)\n",
    "plt.xlabel('Price',size=13)\n",
    "plt.show()"
   ]
  },
  {
   "cell_type": "markdown",
   "metadata": {},
   "source": [
    "###  On an average, 4 door cars are more expensive"
   ]
  },
  {
   "cell_type": "code",
   "execution_count": 349,
   "metadata": {},
   "outputs": [
    {
     "data": {
      "image/png": "[encoded data removed]",
      "text/plain": [
       "<Figure size 720x432 with 1 Axes>"
      ]
     },
     "metadata": {},
     "output_type": "display_data"
    }
   ],
   "source": [
    "plt.figure(figsize=(10,6))\n",
    "sns.barplot(data=df_eda,y='price',x='num-of-doors')\n",
    "plt.show()"
   ]
  },
  {
   "cell_type": "markdown",
   "metadata": {},
   "source": [
    "### Automobiles with OHCV engine type are most expensive"
   ]
  },
  {
   "cell_type": "code",
   "execution_count": 350,
   "metadata": {},
   "outputs": [
    {
     "data": {
      "image/png": "[encoded data removed]",
      "text/plain": [
       "<Figure size 720x432 with 1 Axes>"
      ]
     },
     "metadata": {},
     "output_type": "display_data"
    }
   ],
   "source": [
    "plt.figure(figsize=(10,6))\n",
    "sns.barplot(data=df_eda,x='engine-type',y='price')\n",
    "plt.show()"
   ]
  },
  {
   "cell_type": "markdown",
   "metadata": {},
   "source": [
    "### MPFI anf IDI fuel systems are the most expensive"
   ]
  },
  {
   "cell_type": "code",
   "execution_count": 351,
   "metadata": {},
   "outputs": [
    {
     "data": {
      "image/png": "[encoded data removed]",
      "text/plain": [
       "<Figure size 720x432 with 1 Axes>"
      ]
     },
     "metadata": {},
     "output_type": "display_data"
    }
   ],
   "source": [
    "plt.figure(figsize=(10,6))\n",
    "sns.barplot(data=df_eda,x='fuel-system',y='price')\n",
    "plt.show()"
   ]
  },
  {
   "cell_type": "markdown",
   "metadata": {},
   "source": [
    "### More the cylinders, higher the price, except that 8 cylinder engines are the most expensive"
   ]
  },
  {
   "cell_type": "code",
   "execution_count": 352,
   "metadata": {},
   "outputs": [
    {
     "data": {
      "image/png": "[encoded data removed]",
      "text/plain": [
       "<Figure size 720x432 with 1 Axes>"
      ]
     },
     "metadata": {},
     "output_type": "display_data"
    }
   ],
   "source": [
    "plt.figure(figsize=(10,6))\n",
    "sns.barplot(data=df_eda,x='num-of-cylinders',y='price')\n",
    "plt.show()"
   ]
  },
  {
   "cell_type": "markdown",
   "metadata": {},
   "source": [
    "## One Hot Encoding"
   ]
  },
  {
   "cell_type": "code",
   "execution_count": 39,
   "metadata": {},
   "outputs": [],
   "source": [
    "df_with_dummies=df_eda.copy()"
   ]
  },
  {
   "cell_type": "code",
   "execution_count": 40,
   "metadata": {},
   "outputs": [],
   "source": [
    "df_with_dummies=pd.get_dummies(df_with_dummies,columns=['fuel-type','aspiration','engine-type','fuel-system','drive-wheels','engine-location'],drop_first=True)"
   ]
  },
  {
   "cell_type": "code",
   "execution_count": 41,
   "metadata": {},
   "outputs": [
    {
     "data": {
      "text/html": [
       "<div>\n",
       "<style scoped>\n",
       "    .dataframe tbody tr th:only-of-type {\n",
       "        vertical-align: middle;\n",
       "    }\n",
       "\n",
       "    .dataframe tbody tr th {\n",
       "        vertical-align: top;\n",
       "    }\n",
       "\n",
       "    .dataframe thead th {\n",
       "        text-align: right;\n",
       "    }\n",
       "</style>\n",
       "<table border=\"1\" class=\"dataframe\">\n",
       "  <thead>\n",
       "    <tr style=\"text-align: right;\">\n",
       "      <th></th>\n",
       "      <th>symboling</th>\n",
       "      <th>normalized-losses</th>\n",
       "      <th>num-of-doors</th>\n",
       "      <th>wheel-base</th>\n",
       "      <th>num-of-cylinders</th>\n",
       "      <th>engine-size</th>\n",
       "      <th>compression-ratio</th>\n",
       "      <th>price</th>\n",
       "      <th>stroke_ratio</th>\n",
       "      <th>avg_mpg</th>\n",
       "      <th>...</th>\n",
       "      <th>engine-type_ohcv</th>\n",
       "      <th>fuel-system_2bbl</th>\n",
       "      <th>fuel-system_idi</th>\n",
       "      <th>fuel-system_mfi</th>\n",
       "      <th>fuel-system_mpfi</th>\n",
       "      <th>fuel-system_spdi</th>\n",
       "      <th>fuel-system_spfi</th>\n",
       "      <th>drive-wheels_fwd</th>\n",
       "      <th>drive-wheels_rwd</th>\n",
       "      <th>engine-location_rear</th>\n",
       "    </tr>\n",
       "  </thead>\n",
       "  <tbody>\n",
       "    <tr>\n",
       "      <th>0</th>\n",
       "      <td>3</td>\n",
       "      <td>115.0</td>\n",
       "      <td>2</td>\n",
       "      <td>88.6</td>\n",
       "      <td>4</td>\n",
       "      <td>130</td>\n",
       "      <td>9.0</td>\n",
       "      <td>16500</td>\n",
       "      <td>0.772334</td>\n",
       "      <td>24.0</td>\n",
       "      <td>...</td>\n",
       "      <td>0</td>\n",
       "      <td>0</td>\n",
       "      <td>0</td>\n",
       "      <td>0</td>\n",
       "      <td>1</td>\n",
       "      <td>0</td>\n",
       "      <td>0</td>\n",
       "      <td>0</td>\n",
       "      <td>1</td>\n",
       "      <td>0</td>\n",
       "    </tr>\n",
       "    <tr>\n",
       "      <th>1</th>\n",
       "      <td>1</td>\n",
       "      <td>115.0</td>\n",
       "      <td>2</td>\n",
       "      <td>94.5</td>\n",
       "      <td>6</td>\n",
       "      <td>152</td>\n",
       "      <td>9.0</td>\n",
       "      <td>16500</td>\n",
       "      <td>1.294776</td>\n",
       "      <td>22.5</td>\n",
       "      <td>...</td>\n",
       "      <td>1</td>\n",
       "      <td>0</td>\n",
       "      <td>0</td>\n",
       "      <td>0</td>\n",
       "      <td>1</td>\n",
       "      <td>0</td>\n",
       "      <td>0</td>\n",
       "      <td>0</td>\n",
       "      <td>1</td>\n",
       "      <td>0</td>\n",
       "    </tr>\n",
       "    <tr>\n",
       "      <th>2</th>\n",
       "      <td>2</td>\n",
       "      <td>164.0</td>\n",
       "      <td>4</td>\n",
       "      <td>99.8</td>\n",
       "      <td>4</td>\n",
       "      <td>109</td>\n",
       "      <td>10.0</td>\n",
       "      <td>13950</td>\n",
       "      <td>1.065831</td>\n",
       "      <td>27.0</td>\n",
       "      <td>...</td>\n",
       "      <td>0</td>\n",
       "      <td>0</td>\n",
       "      <td>0</td>\n",
       "      <td>0</td>\n",
       "      <td>1</td>\n",
       "      <td>0</td>\n",
       "      <td>0</td>\n",
       "      <td>1</td>\n",
       "      <td>0</td>\n",
       "      <td>0</td>\n",
       "    </tr>\n",
       "    <tr>\n",
       "      <th>3</th>\n",
       "      <td>2</td>\n",
       "      <td>164.0</td>\n",
       "      <td>4</td>\n",
       "      <td>99.4</td>\n",
       "      <td>5</td>\n",
       "      <td>136</td>\n",
       "      <td>8.0</td>\n",
       "      <td>17450</td>\n",
       "      <td>1.065831</td>\n",
       "      <td>20.0</td>\n",
       "      <td>...</td>\n",
       "      <td>0</td>\n",
       "      <td>0</td>\n",
       "      <td>0</td>\n",
       "      <td>0</td>\n",
       "      <td>1</td>\n",
       "      <td>0</td>\n",
       "      <td>0</td>\n",
       "      <td>0</td>\n",
       "      <td>0</td>\n",
       "      <td>0</td>\n",
       "    </tr>\n",
       "    <tr>\n",
       "      <th>4</th>\n",
       "      <td>2</td>\n",
       "      <td>115.0</td>\n",
       "      <td>2</td>\n",
       "      <td>99.8</td>\n",
       "      <td>5</td>\n",
       "      <td>136</td>\n",
       "      <td>8.5</td>\n",
       "      <td>15250</td>\n",
       "      <td>1.065831</td>\n",
       "      <td>22.0</td>\n",
       "      <td>...</td>\n",
       "      <td>0</td>\n",
       "      <td>0</td>\n",
       "      <td>0</td>\n",
       "      <td>0</td>\n",
       "      <td>1</td>\n",
       "      <td>0</td>\n",
       "      <td>0</td>\n",
       "      <td>1</td>\n",
       "      <td>0</td>\n",
       "      <td>0</td>\n",
       "    </tr>\n",
       "  </tbody>\n",
       "</table>\n",
       "<p>5 rows × 31 columns</p>\n",
       "</div>"
      ],
      "text/plain": [
       "   symboling  normalized-losses  num-of-doors  wheel-base  num-of-cylinders  \\\n",
       "0          3              115.0             2        88.6                 4   \n",
       "1          1              115.0             2        94.5                 6   \n",
       "2          2              164.0             4        99.8                 4   \n",
       "3          2              164.0             4        99.4                 5   \n",
       "4          2              115.0             2        99.8                 5   \n",
       "\n",
       "   engine-size  compression-ratio  price  stroke_ratio  avg_mpg  ...  \\\n",
       "0          130                9.0  16500      0.772334     24.0  ...   \n",
       "1          152                9.0  16500      1.294776     22.5  ...   \n",
       "2          109               10.0  13950      1.065831     27.0  ...   \n",
       "3          136                8.0  17450      1.065831     20.0  ...   \n",
       "4          136                8.5  15250      1.065831     22.0  ...   \n",
       "\n",
       "   engine-type_ohcv  fuel-system_2bbl  fuel-system_idi  fuel-system_mfi  \\\n",
       "0                 0                 0                0                0   \n",
       "1                 1                 0                0                0   \n",
       "2                 0                 0                0                0   \n",
       "3                 0                 0                0                0   \n",
       "4                 0                 0                0                0   \n",
       "\n",
       "   fuel-system_mpfi  fuel-system_spdi  fuel-system_spfi  drive-wheels_fwd  \\\n",
       "0                 1                 0                 0                 0   \n",
       "1                 1                 0                 0                 0   \n",
       "2                 1                 0                 0                 1   \n",
       "3                 1                 0                 0                 0   \n",
       "4                 1                 0                 0                 1   \n",
       "\n",
       "   drive-wheels_rwd  engine-location_rear  \n",
       "0                 1                     0  \n",
       "1                 1                     0  \n",
       "2                 0                     0  \n",
       "3                 0                     0  \n",
       "4                 0                     0  \n",
       "\n",
       "[5 rows x 31 columns]"
      ]
     },
     "execution_count": 41,
     "metadata": {},
     "output_type": "execute_result"
    }
   ],
   "source": [
    "df_with_dummies.head()"
   ]
  },
  {
   "cell_type": "code",
   "execution_count": 42,
   "metadata": {},
   "outputs": [],
   "source": [
    "df_final=df_with_dummies.copy()"
   ]
  },
  {
   "cell_type": "code",
   "execution_count": 43,
   "metadata": {},
   "outputs": [
    {
     "data": {
      "text/html": [
       "<div>\n",
       "<style scoped>\n",
       "    .dataframe tbody tr th:only-of-type {\n",
       "        vertical-align: middle;\n",
       "    }\n",
       "\n",
       "    .dataframe tbody tr th {\n",
       "        vertical-align: top;\n",
       "    }\n",
       "\n",
       "    .dataframe thead th {\n",
       "        text-align: right;\n",
       "    }\n",
       "</style>\n",
       "<table border=\"1\" class=\"dataframe\">\n",
       "  <thead>\n",
       "    <tr style=\"text-align: right;\">\n",
       "      <th></th>\n",
       "      <th>symboling</th>\n",
       "      <th>normalized-losses</th>\n",
       "      <th>num-of-doors</th>\n",
       "      <th>wheel-base</th>\n",
       "      <th>num-of-cylinders</th>\n",
       "      <th>engine-size</th>\n",
       "      <th>compression-ratio</th>\n",
       "      <th>price</th>\n",
       "      <th>stroke_ratio</th>\n",
       "      <th>avg_mpg</th>\n",
       "      <th>...</th>\n",
       "      <th>engine-type_ohcv</th>\n",
       "      <th>fuel-system_2bbl</th>\n",
       "      <th>fuel-system_idi</th>\n",
       "      <th>fuel-system_mfi</th>\n",
       "      <th>fuel-system_mpfi</th>\n",
       "      <th>fuel-system_spdi</th>\n",
       "      <th>fuel-system_spfi</th>\n",
       "      <th>drive-wheels_fwd</th>\n",
       "      <th>drive-wheels_rwd</th>\n",
       "      <th>engine-location_rear</th>\n",
       "    </tr>\n",
       "  </thead>\n",
       "  <tbody>\n",
       "    <tr>\n",
       "      <th>0</th>\n",
       "      <td>3</td>\n",
       "      <td>115.0</td>\n",
       "      <td>2</td>\n",
       "      <td>88.6</td>\n",
       "      <td>4</td>\n",
       "      <td>130</td>\n",
       "      <td>9.0</td>\n",
       "      <td>16500</td>\n",
       "      <td>0.772334</td>\n",
       "      <td>24.0</td>\n",
       "      <td>...</td>\n",
       "      <td>0</td>\n",
       "      <td>0</td>\n",
       "      <td>0</td>\n",
       "      <td>0</td>\n",
       "      <td>1</td>\n",
       "      <td>0</td>\n",
       "      <td>0</td>\n",
       "      <td>0</td>\n",
       "      <td>1</td>\n",
       "      <td>0</td>\n",
       "    </tr>\n",
       "    <tr>\n",
       "      <th>1</th>\n",
       "      <td>1</td>\n",
       "      <td>115.0</td>\n",
       "      <td>2</td>\n",
       "      <td>94.5</td>\n",
       "      <td>6</td>\n",
       "      <td>152</td>\n",
       "      <td>9.0</td>\n",
       "      <td>16500</td>\n",
       "      <td>1.294776</td>\n",
       "      <td>22.5</td>\n",
       "      <td>...</td>\n",
       "      <td>1</td>\n",
       "      <td>0</td>\n",
       "      <td>0</td>\n",
       "      <td>0</td>\n",
       "      <td>1</td>\n",
       "      <td>0</td>\n",
       "      <td>0</td>\n",
       "      <td>0</td>\n",
       "      <td>1</td>\n",
       "      <td>0</td>\n",
       "    </tr>\n",
       "    <tr>\n",
       "      <th>2</th>\n",
       "      <td>2</td>\n",
       "      <td>164.0</td>\n",
       "      <td>4</td>\n",
       "      <td>99.8</td>\n",
       "      <td>4</td>\n",
       "      <td>109</td>\n",
       "      <td>10.0</td>\n",
       "      <td>13950</td>\n",
       "      <td>1.065831</td>\n",
       "      <td>27.0</td>\n",
       "      <td>...</td>\n",
       "      <td>0</td>\n",
       "      <td>0</td>\n",
       "      <td>0</td>\n",
       "      <td>0</td>\n",
       "      <td>1</td>\n",
       "      <td>0</td>\n",
       "      <td>0</td>\n",
       "      <td>1</td>\n",
       "      <td>0</td>\n",
       "      <td>0</td>\n",
       "    </tr>\n",
       "    <tr>\n",
       "      <th>3</th>\n",
       "      <td>2</td>\n",
       "      <td>164.0</td>\n",
       "      <td>4</td>\n",
       "      <td>99.4</td>\n",
       "      <td>5</td>\n",
       "      <td>136</td>\n",
       "      <td>8.0</td>\n",
       "      <td>17450</td>\n",
       "      <td>1.065831</td>\n",
       "      <td>20.0</td>\n",
       "      <td>...</td>\n",
       "      <td>0</td>\n",
       "      <td>0</td>\n",
       "      <td>0</td>\n",
       "      <td>0</td>\n",
       "      <td>1</td>\n",
       "      <td>0</td>\n",
       "      <td>0</td>\n",
       "      <td>0</td>\n",
       "      <td>0</td>\n",
       "      <td>0</td>\n",
       "    </tr>\n",
       "    <tr>\n",
       "      <th>4</th>\n",
       "      <td>2</td>\n",
       "      <td>115.0</td>\n",
       "      <td>2</td>\n",
       "      <td>99.8</td>\n",
       "      <td>5</td>\n",
       "      <td>136</td>\n",
       "      <td>8.5</td>\n",
       "      <td>15250</td>\n",
       "      <td>1.065831</td>\n",
       "      <td>22.0</td>\n",
       "      <td>...</td>\n",
       "      <td>0</td>\n",
       "      <td>0</td>\n",
       "      <td>0</td>\n",
       "      <td>0</td>\n",
       "      <td>1</td>\n",
       "      <td>0</td>\n",
       "      <td>0</td>\n",
       "      <td>1</td>\n",
       "      <td>0</td>\n",
       "      <td>0</td>\n",
       "    </tr>\n",
       "  </tbody>\n",
       "</table>\n",
       "<p>5 rows × 31 columns</p>\n",
       "</div>"
      ],
      "text/plain": [
       "   symboling  normalized-losses  num-of-doors  wheel-base  num-of-cylinders  \\\n",
       "0          3              115.0             2        88.6                 4   \n",
       "1          1              115.0             2        94.5                 6   \n",
       "2          2              164.0             4        99.8                 4   \n",
       "3          2              164.0             4        99.4                 5   \n",
       "4          2              115.0             2        99.8                 5   \n",
       "\n",
       "   engine-size  compression-ratio  price  stroke_ratio  avg_mpg  ...  \\\n",
       "0          130                9.0  16500      0.772334     24.0  ...   \n",
       "1          152                9.0  16500      1.294776     22.5  ...   \n",
       "2          109               10.0  13950      1.065831     27.0  ...   \n",
       "3          136                8.0  17450      1.065831     20.0  ...   \n",
       "4          136                8.5  15250      1.065831     22.0  ...   \n",
       "\n",
       "   engine-type_ohcv  fuel-system_2bbl  fuel-system_idi  fuel-system_mfi  \\\n",
       "0                 0                 0                0                0   \n",
       "1                 1                 0                0                0   \n",
       "2                 0                 0                0                0   \n",
       "3                 0                 0                0                0   \n",
       "4                 0                 0                0                0   \n",
       "\n",
       "   fuel-system_mpfi  fuel-system_spdi  fuel-system_spfi  drive-wheels_fwd  \\\n",
       "0                 1                 0                 0                 0   \n",
       "1                 1                 0                 0                 0   \n",
       "2                 1                 0                 0                 1   \n",
       "3                 1                 0                 0                 0   \n",
       "4                 1                 0                 0                 1   \n",
       "\n",
       "   drive-wheels_rwd  engine-location_rear  \n",
       "0                 1                     0  \n",
       "1                 1                     0  \n",
       "2                 0                     0  \n",
       "3                 0                     0  \n",
       "4                 0                     0  \n",
       "\n",
       "[5 rows x 31 columns]"
      ]
     },
     "execution_count": 43,
     "metadata": {},
     "output_type": "execute_result"
    }
   ],
   "source": [
    "df_final.head()"
   ]
  },
  {
   "cell_type": "markdown",
   "metadata": {},
   "source": [
    "## Standardizing the data"
   ]
  },
  {
   "cell_type": "code",
   "execution_count": 44,
   "metadata": {},
   "outputs": [],
   "source": [
    "df_scaled=df_final.copy()"
   ]
  },
  {
   "cell_type": "code",
   "execution_count": 45,
   "metadata": {},
   "outputs": [],
   "source": [
    "df_scaled[scale]=RobustScaler().fit_transform(df_scaled[scale])"
   ]
  },
  {
   "cell_type": "code",
   "execution_count": 46,
   "metadata": {},
   "outputs": [],
   "source": [
    "df_scaled.reset_index(inplace=True)"
   ]
  },
  {
   "cell_type": "code",
   "execution_count": 47,
   "metadata": {},
   "outputs": [],
   "source": [
    "df_scaled.drop('index',axis=1,inplace=True)"
   ]
  },
  {
   "cell_type": "code",
   "execution_count": 48,
   "metadata": {},
   "outputs": [
    {
     "data": {
      "text/html": [
       "<div>\n",
       "<style scoped>\n",
       "    .dataframe tbody tr th:only-of-type {\n",
       "        vertical-align: middle;\n",
       "    }\n",
       "\n",
       "    .dataframe tbody tr th {\n",
       "        vertical-align: top;\n",
       "    }\n",
       "\n",
       "    .dataframe thead th {\n",
       "        text-align: right;\n",
       "    }\n",
       "</style>\n",
       "<table border=\"1\" class=\"dataframe\">\n",
       "  <thead>\n",
       "    <tr style=\"text-align: right;\">\n",
       "      <th></th>\n",
       "      <th>symboling</th>\n",
       "      <th>normalized-losses</th>\n",
       "      <th>num-of-doors</th>\n",
       "      <th>wheel-base</th>\n",
       "      <th>num-of-cylinders</th>\n",
       "      <th>engine-size</th>\n",
       "      <th>compression-ratio</th>\n",
       "      <th>price</th>\n",
       "      <th>stroke_ratio</th>\n",
       "      <th>avg_mpg</th>\n",
       "      <th>...</th>\n",
       "      <th>engine-type_ohcv</th>\n",
       "      <th>fuel-system_2bbl</th>\n",
       "      <th>fuel-system_idi</th>\n",
       "      <th>fuel-system_mfi</th>\n",
       "      <th>fuel-system_mpfi</th>\n",
       "      <th>fuel-system_spdi</th>\n",
       "      <th>fuel-system_spfi</th>\n",
       "      <th>drive-wheels_fwd</th>\n",
       "      <th>drive-wheels_rwd</th>\n",
       "      <th>engine-location_rear</th>\n",
       "    </tr>\n",
       "  </thead>\n",
       "  <tbody>\n",
       "    <tr>\n",
       "      <th>0</th>\n",
       "      <td>3</td>\n",
       "      <td>115.0</td>\n",
       "      <td>2</td>\n",
       "      <td>-1.075949</td>\n",
       "      <td>4</td>\n",
       "      <td>0.208333</td>\n",
       "      <td>9.0</td>\n",
       "      <td>16500</td>\n",
       "      <td>0.772334</td>\n",
       "      <td>-0.303797</td>\n",
       "      <td>...</td>\n",
       "      <td>0</td>\n",
       "      <td>0</td>\n",
       "      <td>0</td>\n",
       "      <td>0</td>\n",
       "      <td>1</td>\n",
       "      <td>0</td>\n",
       "      <td>0</td>\n",
       "      <td>0</td>\n",
       "      <td>1</td>\n",
       "      <td>0</td>\n",
       "    </tr>\n",
       "    <tr>\n",
       "      <th>1</th>\n",
       "      <td>1</td>\n",
       "      <td>115.0</td>\n",
       "      <td>2</td>\n",
       "      <td>-0.329114</td>\n",
       "      <td>6</td>\n",
       "      <td>0.666667</td>\n",
       "      <td>9.0</td>\n",
       "      <td>16500</td>\n",
       "      <td>1.294776</td>\n",
       "      <td>-0.455696</td>\n",
       "      <td>...</td>\n",
       "      <td>1</td>\n",
       "      <td>0</td>\n",
       "      <td>0</td>\n",
       "      <td>0</td>\n",
       "      <td>1</td>\n",
       "      <td>0</td>\n",
       "      <td>0</td>\n",
       "      <td>0</td>\n",
       "      <td>1</td>\n",
       "      <td>0</td>\n",
       "    </tr>\n",
       "    <tr>\n",
       "      <th>2</th>\n",
       "      <td>2</td>\n",
       "      <td>164.0</td>\n",
       "      <td>4</td>\n",
       "      <td>0.341772</td>\n",
       "      <td>4</td>\n",
       "      <td>-0.229167</td>\n",
       "      <td>10.0</td>\n",
       "      <td>13950</td>\n",
       "      <td>1.065831</td>\n",
       "      <td>0.000000</td>\n",
       "      <td>...</td>\n",
       "      <td>0</td>\n",
       "      <td>0</td>\n",
       "      <td>0</td>\n",
       "      <td>0</td>\n",
       "      <td>1</td>\n",
       "      <td>0</td>\n",
       "      <td>0</td>\n",
       "      <td>1</td>\n",
       "      <td>0</td>\n",
       "      <td>0</td>\n",
       "    </tr>\n",
       "    <tr>\n",
       "      <th>3</th>\n",
       "      <td>2</td>\n",
       "      <td>164.0</td>\n",
       "      <td>4</td>\n",
       "      <td>0.291139</td>\n",
       "      <td>5</td>\n",
       "      <td>0.333333</td>\n",
       "      <td>8.0</td>\n",
       "      <td>17450</td>\n",
       "      <td>1.065831</td>\n",
       "      <td>-0.708861</td>\n",
       "      <td>...</td>\n",
       "      <td>0</td>\n",
       "      <td>0</td>\n",
       "      <td>0</td>\n",
       "      <td>0</td>\n",
       "      <td>1</td>\n",
       "      <td>0</td>\n",
       "      <td>0</td>\n",
       "      <td>0</td>\n",
       "      <td>0</td>\n",
       "      <td>0</td>\n",
       "    </tr>\n",
       "    <tr>\n",
       "      <th>4</th>\n",
       "      <td>2</td>\n",
       "      <td>115.0</td>\n",
       "      <td>2</td>\n",
       "      <td>0.341772</td>\n",
       "      <td>5</td>\n",
       "      <td>0.333333</td>\n",
       "      <td>8.5</td>\n",
       "      <td>15250</td>\n",
       "      <td>1.065831</td>\n",
       "      <td>-0.506329</td>\n",
       "      <td>...</td>\n",
       "      <td>0</td>\n",
       "      <td>0</td>\n",
       "      <td>0</td>\n",
       "      <td>0</td>\n",
       "      <td>1</td>\n",
       "      <td>0</td>\n",
       "      <td>0</td>\n",
       "      <td>1</td>\n",
       "      <td>0</td>\n",
       "      <td>0</td>\n",
       "    </tr>\n",
       "  </tbody>\n",
       "</table>\n",
       "<p>5 rows × 31 columns</p>\n",
       "</div>"
      ],
      "text/plain": [
       "   symboling  normalized-losses  num-of-doors  wheel-base  num-of-cylinders  \\\n",
       "0          3              115.0             2   -1.075949                 4   \n",
       "1          1              115.0             2   -0.329114                 6   \n",
       "2          2              164.0             4    0.341772                 4   \n",
       "3          2              164.0             4    0.291139                 5   \n",
       "4          2              115.0             2    0.341772                 5   \n",
       "\n",
       "   engine-size  compression-ratio  price  stroke_ratio   avg_mpg  ...  \\\n",
       "0     0.208333                9.0  16500      0.772334 -0.303797  ...   \n",
       "1     0.666667                9.0  16500      1.294776 -0.455696  ...   \n",
       "2    -0.229167               10.0  13950      1.065831  0.000000  ...   \n",
       "3     0.333333                8.0  17450      1.065831 -0.708861  ...   \n",
       "4     0.333333                8.5  15250      1.065831 -0.506329  ...   \n",
       "\n",
       "   engine-type_ohcv  fuel-system_2bbl  fuel-system_idi  fuel-system_mfi  \\\n",
       "0                 0                 0                0                0   \n",
       "1                 1                 0                0                0   \n",
       "2                 0                 0                0                0   \n",
       "3                 0                 0                0                0   \n",
       "4                 0                 0                0                0   \n",
       "\n",
       "   fuel-system_mpfi  fuel-system_spdi  fuel-system_spfi  drive-wheels_fwd  \\\n",
       "0                 1                 0                 0                 0   \n",
       "1                 1                 0                 0                 0   \n",
       "2                 1                 0                 0                 1   \n",
       "3                 1                 0                 0                 0   \n",
       "4                 1                 0                 0                 1   \n",
       "\n",
       "   drive-wheels_rwd  engine-location_rear  \n",
       "0                 1                     0  \n",
       "1                 1                     0  \n",
       "2                 0                     0  \n",
       "3                 0                     0  \n",
       "4                 0                     0  \n",
       "\n",
       "[5 rows x 31 columns]"
      ]
     },
     "execution_count": 48,
     "metadata": {},
     "output_type": "execute_result"
    }
   ],
   "source": [
    "df_scaled.head()"
   ]
  },
  {
   "cell_type": "markdown",
   "metadata": {},
   "source": [
    "## Preparing the model"
   ]
  },
  {
   "cell_type": "code",
   "execution_count": 49,
   "metadata": {},
   "outputs": [],
   "source": [
    "X=df_scaled.drop(['price','engine-size'],axis=1)\n",
    "y=df_scaled.price"
   ]
  },
  {
   "cell_type": "code",
   "execution_count": 50,
   "metadata": {},
   "outputs": [
    {
     "data": {
      "text/plain": [
       "array([3.25260657e-03, 5.65415890e-03, 3.36769462e-03, 2.18442175e-02,\n",
       "       1.26387266e-01, 6.62191907e-03, 7.02711449e-03, 8.56391958e-02,\n",
       "       1.32549017e-02, 1.64574238e-01, 1.06947262e-02, 2.53897005e-02,\n",
       "       2.02867679e-01, 4.89336758e-02, 3.31637119e-03, 2.00552100e-02,\n",
       "       9.88919936e-04, 3.37160157e-03, 6.88850862e-03, 2.40210969e-03,\n",
       "       5.00901419e-03, 2.90115531e-03, 5.73219753e-05, 3.84236229e-02,\n",
       "       4.21837818e-04, 8.03373714e-04, 1.15322246e-03, 1.80465818e-01,\n",
       "       8.23281830e-03])"
      ]
     },
     "execution_count": 50,
     "metadata": {},
     "output_type": "execute_result"
    }
   ],
   "source": [
    "from sklearn.ensemble import ExtraTreesRegressor\n",
    "etr=ExtraTreesRegressor()\n",
    "etr.fit(X,y)\n",
    "etr.feature_importances_"
   ]
  },
  {
   "cell_type": "code",
   "execution_count": 51,
   "metadata": {},
   "outputs": [
    {
     "data": {
      "image/png": "[encoded data removed]",
      "text/plain": [
       "<Figure size 720x432 with 1 Axes>"
      ]
     },
     "metadata": {
      "needs_background": "light"
     },
     "output_type": "display_data"
    }
   ],
   "source": [
    "plt.figure(figsize=(10,6))\n",
    "fi=pd.Series(etr.feature_importances_, index=X.columns)\n",
    "fi.nlargest(20).plot(kind='barh') \n",
    "plt.show()"
   ]
  },
  {
   "cell_type": "code",
   "execution_count": 52,
   "metadata": {},
   "outputs": [],
   "source": [
    "x_train,x_test,y_train,y_test=train_test_split(X,y,test_size=0.2,random_state=42)"
   ]
  },
  {
   "cell_type": "code",
   "execution_count": 53,
   "metadata": {},
   "outputs": [
    {
     "data": {
      "text/plain": [
       "((153, 29), (39, 29), (153,), (39,))"
      ]
     },
     "execution_count": 53,
     "metadata": {},
     "output_type": "execute_result"
    }
   ],
   "source": [
    "x_train.shape,x_test.shape,y_train.shape,y_test.shape"
   ]
  },
  {
   "cell_type": "code",
   "execution_count": 54,
   "metadata": {
    "scrolled": true
   },
   "outputs": [
    {
     "data": {
      "text/plain": [
       "(0.8493831475091135, 0.9008708639917732, 0.8357163836104882)"
      ]
     },
     "execution_count": 54,
     "metadata": {},
     "output_type": "execute_result"
    }
   ],
   "source": [
    "cvs(LinearRegression(),x_train,y_train,cv=5).mean(),cvs(RandomForestRegressor(),x_train,y_train,cv=5).mean(),cvs(DecisionTreeRegressor(),x_train,y_train,cv=5).mean()"
   ]
  },
  {
   "cell_type": "code",
   "execution_count": 55,
   "metadata": {},
   "outputs": [
    {
     "data": {
      "text/html": [
       "<div>\n",
       "<style scoped>\n",
       "    .dataframe tbody tr th:only-of-type {\n",
       "        vertical-align: middle;\n",
       "    }\n",
       "\n",
       "    .dataframe tbody tr th {\n",
       "        vertical-align: top;\n",
       "    }\n",
       "\n",
       "    .dataframe thead th {\n",
       "        text-align: right;\n",
       "    }\n",
       "</style>\n",
       "<table border=\"1\" class=\"dataframe\">\n",
       "  <thead>\n",
       "    <tr style=\"text-align: right;\">\n",
       "      <th></th>\n",
       "      <th>param_n_estimators</th>\n",
       "      <th>param_max_depth</th>\n",
       "      <th>param_n_jobs</th>\n",
       "      <th>mean_test_score</th>\n",
       "    </tr>\n",
       "  </thead>\n",
       "  <tbody>\n",
       "    <tr>\n",
       "      <th>0</th>\n",
       "      <td>500</td>\n",
       "      <td>None</td>\n",
       "      <td>None</td>\n",
       "      <td>0.902474</td>\n",
       "    </tr>\n",
       "    <tr>\n",
       "      <th>1</th>\n",
       "      <td>500</td>\n",
       "      <td>None</td>\n",
       "      <td>2</td>\n",
       "      <td>0.901029</td>\n",
       "    </tr>\n",
       "    <tr>\n",
       "      <th>2</th>\n",
       "      <td>1000</td>\n",
       "      <td>None</td>\n",
       "      <td>None</td>\n",
       "      <td>0.900927</td>\n",
       "    </tr>\n",
       "    <tr>\n",
       "      <th>3</th>\n",
       "      <td>500</td>\n",
       "      <td>50</td>\n",
       "      <td>2</td>\n",
       "      <td>0.900831</td>\n",
       "    </tr>\n",
       "    <tr>\n",
       "      <th>4</th>\n",
       "      <td>250</td>\n",
       "      <td>10</td>\n",
       "      <td>None</td>\n",
       "      <td>0.903524</td>\n",
       "    </tr>\n",
       "  </tbody>\n",
       "</table>\n",
       "</div>"
      ],
      "text/plain": [
       "  param_n_estimators param_max_depth param_n_jobs  mean_test_score\n",
       "0                500            None         None         0.902474\n",
       "1                500            None            2         0.901029\n",
       "2               1000            None         None         0.900927\n",
       "3                500              50            2         0.900831\n",
       "4                250              10         None         0.903524"
      ]
     },
     "execution_count": 55,
     "metadata": {},
     "output_type": "execute_result"
    }
   ],
   "source": [
    "rs=RandomizedSearchCV(RandomForestRegressor(),{\n",
    "    'n_estimators':[100,250,500,1000],\n",
    "    'max_depth':[None,10,50],\n",
    "    'n_jobs':[None,2],    \n",
    "}, cv=5, return_train_score=False, n_iter=5)\n",
    "\n",
    "rs.fit(x_train,y_train)\n",
    "pd.DataFrame(rs.cv_results_)[['param_n_estimators','param_max_depth','param_n_jobs','mean_test_score']]"
   ]
  },
  {
   "cell_type": "code",
   "execution_count": 56,
   "metadata": {
    "scrolled": true
   },
   "outputs": [
    {
     "data": {
      "text/plain": [
       "0.9506894305073124"
      ]
     },
     "execution_count": 56,
     "metadata": {},
     "output_type": "execute_result"
    }
   ],
   "source": [
    "rf=RandomForestRegressor(n_estimators=1000,n_jobs=2,max_depth=10)\n",
    "rf.fit(x_train,y_train)\n",
    "rf.score(x_test,y_test)"
   ]
  },
  {
   "cell_type": "code",
   "execution_count": 57,
   "metadata": {},
   "outputs": [
    {
     "data": {
      "text/plain": [
       "0.9880589165125613"
      ]
     },
     "execution_count": 57,
     "metadata": {},
     "output_type": "execute_result"
    }
   ],
   "source": [
    "rf.score(x_train,y_train)"
   ]
  },
  {
   "cell_type": "markdown",
   "metadata": {},
   "source": [
    "## Ridge Model"
   ]
  },
  {
   "cell_type": "code",
   "execution_count": 59,
   "metadata": {},
   "outputs": [
    {
     "data": {
      "text/plain": [
       "0.8221971747617107"
      ]
     },
     "execution_count": 59,
     "metadata": {},
     "output_type": "execute_result"
    }
   ],
   "source": [
    "from sklearn.linear_model import Ridge\n",
    "from sklearn.model_selection import KFold\n",
    "ridge_model = Ridge()\n",
    "kfold = KFold(n_splits=5,shuffle=True)\n",
    "\n",
    "ridge_model.fit(x_train,y_train)\n",
    "result= cvs(ridge_model,X,y,cv=kfold)\n",
    "result.mean()\n"
   ]
  },
  {
   "cell_type": "markdown",
   "metadata": {},
   "source": [
    "## Lasso Model"
   ]
  },
  {
   "cell_type": "code",
   "execution_count": 60,
   "metadata": {},
   "outputs": [
    {
     "data": {
      "text/plain": [
       "0.8330996245184368"
      ]
     },
     "execution_count": 60,
     "metadata": {},
     "output_type": "execute_result"
    }
   ],
   "source": [
    "from sklearn.linear_model import Lasso\n",
    "\n",
    "lasso_model = Lasso(max_iter=5000)\n",
    "kfold = KFold(n_splits=5,shuffle=True)\n",
    "lasso_model.fit(x_train,y_train)\n",
    "result =cvs(lasso_model,X,y,cv=kfold)\n",
    "result.mean()"
   ]
  },
  {
   "cell_type": "markdown",
   "metadata": {},
   "source": [
    "## Making predictions and plotting it"
   ]
  },
  {
   "cell_type": "code",
   "execution_count": 61,
   "metadata": {},
   "outputs": [],
   "source": [
    "predictions=rf.predict(x_test)"
   ]
  },
  {
   "cell_type": "code",
   "execution_count": 62,
   "metadata": {},
   "outputs": [
    {
     "data": {
      "image/png": "[encoded data removed]",
      "text/plain": [
       "<Figure size 720x432 with 1 Axes>"
      ]
     },
     "metadata": {
      "needs_background": "light"
     },
     "output_type": "display_data"
    }
   ],
   "source": [
    "plt.figure(figsize=(10,6))\n",
    "sns.set_style('darkgrid')\n",
    "sns.regplot(x=y_test,y=predictions)\n",
    "plt.xlabel('True Price', size=12)\n",
    "plt.ylabel('Predicted Price', size=12)\n",
    "plt.show()"
   ]
  },
  {
   "cell_type": "code",
   "execution_count": 65,
   "metadata": {},
   "outputs": [
    {
     "data": {
      "image/png": "[encoded data removed]",
      "text/plain": [
       "<Figure size 720x432 with 1 Axes>"
      ]
     },
     "metadata": {},
     "output_type": "display_data"
    }
   ],
   "source": [
    "plt.figure(figsize=(10,6))\n",
    "sns.histplot(y_test-predictions,kde=True)\n",
    "plt.show()"
   ]
  },
  {
   "cell_type": "code",
   "execution_count": 916,
   "metadata": {},
   "outputs": [],
   "source": [
    "import pickle\n",
    "file=open('automobile-1985.pkl','wb')\n",
    "pickle.dump(rf,file)"
   ]
  }
 ],
 "metadata": {
  "kernelspec": {
   "display_name": "Python 3",
   "language": "python",
   "name": "python3"
  },
  "language_info": {
   "codemirror_mode": {
    "name": "ipython",
    "version": 3
   },
   "file_extension": ".py",
   "mimetype": "text/x-python",
   "name": "python",
   "nbconvert_exporter": "python",
   "pygments_lexer": "ipython3",
   "version": "3.8.5"
  }
 },
 "nbformat": 4,
 "nbformat_minor": 4
}
